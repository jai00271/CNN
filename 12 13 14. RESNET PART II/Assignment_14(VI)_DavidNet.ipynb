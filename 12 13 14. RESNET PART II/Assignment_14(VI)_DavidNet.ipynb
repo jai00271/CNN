{
  "nbformat": 4,
  "nbformat_minor": 0,
  "metadata": {
    "colab": {
      "name": "Assignment_14(VI)_DavidNet_Rohit.ipynb",
      "version": "0.3.2",
      "provenance": [],
      "collapsed_sections": [
        "v4jkwnVIs8zG",
        "X_VyxJ7bbJC0",
        "1tu-J4zbXU-W",
        "WYTv40qoMF_f",
        "kQnxlO9sD1yn",
        "XAf3IDGsLrsx",
        "XVY7W-Dq61-1",
        "krPN47N1LRzS",
        "n_ThvQ74L45Q",
        "ES3IqhGJa18k",
        "_wInflHNMy6q",
        "Esg4pencsqWQ",
        "3JPjTR4MMkVd",
        "0Oh2csQYQj3g",
        "d2vWUWAI_wKF",
        "xDF5RvR6_4w8"
      ]
    },
    "kernelspec": {
      "name": "python3",
      "display_name": "Python 3"
    },
    "accelerator": "GPU"
  },
  "cells": [
    {
      "cell_type": "markdown",
      "metadata": {
        "id": "v4jkwnVIs8zG",
        "colab_type": "text"
      },
      "source": [
        "### Load required libraries"
      ]
    },
    {
      "cell_type": "code",
      "metadata": {
        "id": "E14Gc5K0LHov",
        "colab_type": "code",
        "trusted": true,
        "colab": {
          "base_uri": "https://localhost:8080/",
          "height": 0
        },
        "outputId": "68fa58e2-c9ab-45a6-e778-e3f3f5a125be"
      },
      "source": [
        "from __future__ import print_function\n",
        "import keras\n",
        "from keras.layers import Dense, Conv2D, BatchNormalization, Activation\n",
        "from keras.layers import AveragePooling2D, Input, Flatten\n",
        "from keras.optimizers import Adam\n",
        "from keras.callbacks import ModelCheckpoint, LearningRateScheduler\n",
        "from keras.callbacks import ReduceLROnPlateau\n",
        "from keras.preprocessing.image import ImageDataGenerator\n",
        "from keras.regularizers import l2\n",
        "from keras import backend as K\n",
        "from keras.models import Model\n",
        "from keras.datasets import cifar10\n",
        "import numpy as np\n",
        "import os\n",
        "from keras import regularizers, optimizers\n",
        "import tensorflow as tf\n",
        "import matplotlib.pyplot as plt\n",
        "from keras.callbacks import ModelCheckpoint, ReduceLROnPlateau, EarlyStopping\n",
        "from keras.layers import MaxPooling2D\n"
      ],
      "execution_count": 1,
      "outputs": [
        {
          "output_type": "stream",
          "text": [
            "Using TensorFlow backend.\n"
          ],
          "name": "stderr"
        }
      ]
    },
    {
      "cell_type": "markdown",
      "metadata": {
        "id": "X_VyxJ7bbJC0",
        "colab_type": "text"
      },
      "source": [
        "## Private Methods Sections"
      ]
    },
    {
      "cell_type": "markdown",
      "metadata": {
        "id": "1tu-J4zbXU-W",
        "colab_type": "text"
      },
      "source": [
        "###Define Cutout\n",
        "\n",
        "Visit readme file for more details"
      ]
    },
    {
      "cell_type": "code",
      "metadata": {
        "id": "UzhVX04EXTMx",
        "colab_type": "code",
        "trusted": true,
        "colab": {}
      },
      "source": [
        "import numpy as np\n",
        "\n",
        "\n",
        "def get_random_eraser(p=0.5, s_l=0.02, s_h=0.4, r_1=0.3, r_2=1/0.3, v_l=0, v_h=255, pixel_level=False):\n",
        "    def eraser(input_img):\n",
        "        img_h, img_w, img_c = input_img.shape\n",
        "        p_1 = np.random.rand()\n",
        "\n",
        "        if p_1 > p:\n",
        "            return input_img\n",
        "\n",
        "        while True:\n",
        "            s = np.random.uniform(s_l, s_h) * img_h * img_w\n",
        "            r = np.random.uniform(r_1, r_2)\n",
        "            w = int(np.sqrt(s / r))\n",
        "            h = int(np.sqrt(s * r))\n",
        "            left = np.random.randint(0, img_w)\n",
        "            top = np.random.randint(0, img_h)\n",
        "\n",
        "            if left + w <= img_w and top + h <= img_h:\n",
        "                break\n",
        "\n",
        "        if pixel_level:\n",
        "            c = np.random.uniform(v_l, v_h, (h, w, img_c))\n",
        "        else:\n",
        "            c = np.random.uniform(v_l, v_h)\n",
        "\n",
        "        input_img[top:top + h, left:left + w, :] = c\n",
        "\n",
        "        return input_img\n",
        "\n",
        "    return eraser"
      ],
      "execution_count": 0,
      "outputs": []
    },
    {
      "cell_type": "markdown",
      "metadata": {
        "id": "WYTv40qoMF_f",
        "colab_type": "text"
      },
      "source": [
        "### Define LR  Finder "
      ]
    },
    {
      "cell_type": "code",
      "metadata": {
        "id": "AnPLBxMhjNAC",
        "colab_type": "code",
        "trusted": true,
        "colab": {}
      },
      "source": [
        "class LRFinder:\n",
        "    \"\"\"\n",
        "    Plots the change of the loss function of a Keras model when the learning rate is exponentially increasing.\n",
        "    See for details:\n",
        "    https://towardsdatascience.com/estimating-optimal-learning-rate-for-a-deep-neural-network-ce32f2556ce0\n",
        "    \"\"\"\n",
        "    def __init__(self, model):\n",
        "        self.model = model\n",
        "        self.losses = []\n",
        "        self.lrs = []\n",
        "        self.best_loss = 1e9\n",
        "\n",
        "    def on_batch_end(self, batch, logs):\n",
        "        # Log the learning rate\n",
        "        lr = K.get_value(self.model.optimizer.lr)\n",
        "        self.lrs.append(lr)\n",
        "\n",
        "        # Log the loss\n",
        "        loss = logs['loss']\n",
        "        self.losses.append(loss)\n",
        "\n",
        "        # Check whether the loss got too large or NaN\n",
        "        if batch > 5 and (math.isnan(loss) or loss > self.best_loss * 4):\n",
        "            self.model.stop_training = True\n",
        "            return\n",
        "\n",
        "        if loss < self.best_loss:\n",
        "            self.best_loss = loss\n",
        "\n",
        "        # Increase the learning rate for the next batch\n",
        "        lr *= self.lr_mult\n",
        "        K.set_value(self.model.optimizer.lr, lr)\n",
        "\n",
        "    def find(self, x_train, y_train, start_lr, end_lr, batch_size=64, epochs=1):\n",
        "        num_batches = epochs * x_train.shape[0] / batch_size\n",
        "        self.lr_mult = (float(end_lr) / float(start_lr)) ** (float(1) / float(num_batches))\n",
        "\n",
        "        # Save weights into a file\n",
        "        self.model.save_weights('tmp.h5')\n",
        "\n",
        "        # Remember the original learning rate\n",
        "        original_lr = K.get_value(self.model.optimizer.lr)\n",
        "\n",
        "        # Set the initial learning rate\n",
        "        K.set_value(self.model.optimizer.lr, start_lr)\n",
        "\n",
        "        callback = LambdaCallback(on_batch_end=lambda batch, logs: self.on_batch_end(batch, logs))\n",
        "\n",
        "        self.model.fit(x_train, y_train,\n",
        "                        batch_size=batch_size, epochs=epochs,\n",
        "                        callbacks=[callback])\n",
        "\n",
        "        # Restore the weights to the state before model fitting\n",
        "        self.model.load_weights('tmp.h5')\n",
        "\n",
        "        # Restore the original learning rate\n",
        "        K.set_value(self.model.optimizer.lr, original_lr)\n",
        "\n",
        "    def find_generator(self, generator, start_lr, end_lr, epochs=1, steps_per_epoch=None, **kw_fit):\n",
        "            if steps_per_epoch is None:\n",
        "                try:\n",
        "                    steps_per_epoch = len(generator)\n",
        "                except (ValueError, NotImplementedError) as e:\n",
        "                    raise e('`steps_per_epoch=None` is only valid for a'\n",
        "                            ' generator based on the '\n",
        "                            '`keras.utils.Sequence`'\n",
        "                            ' class. Please specify `steps_per_epoch` '\n",
        "                            'or use the `keras.utils.Sequence` class.')\n",
        "            self.lr_mult = (float(end_lr) / float(start_lr)) ** (float(1) / float(steps_per_epoch))\n",
        "\n",
        "            # Save weights into a file\n",
        "            self.model.save_weights('tmp.h5')\n",
        "\n",
        "            # Remember the original learning rate\n",
        "            original_lr = K.get_value(self.model.optimizer.lr)\n",
        "\n",
        "            # Set the initial learning rate\n",
        "            K.set_value(self.model.optimizer.lr, start_lr)\n",
        "\n",
        "            callback = LambdaCallback(on_batch_end=lambda batch,\n",
        "                                      logs: self.on_batch_end(batch, logs))\n",
        "\n",
        "            self.model.fit_generator(generator=generator,\n",
        "                                     epochs=epochs,\n",
        "                                     steps_per_epoch=steps_per_epoch,\n",
        "                                     callbacks=[callback],\n",
        "                                     **kw_fit)\n",
        "\n",
        "            # Restore the weights to the state before model fitting\n",
        "            self.model.load_weights('tmp.h5')\n",
        "\n",
        "            # Restore the original learning rate\n",
        "            K.set_value(self.model.optimizer.lr, original_lr)\n",
        "\n",
        "    def plot_loss(self, n_skip_beginning=10, n_skip_end=5):\n",
        "        \"\"\"\n",
        "        Plots the loss.\n",
        "        Parameters:\n",
        "            n_skip_beginning - number of batches to skip on the left.\n",
        "            n_skip_end - number of batches to skip on the right.\n",
        "        \"\"\"\n",
        "        plt.ylabel(\"loss\")\n",
        "        plt.xlabel(\"learning rate (log scale)\")\n",
        "        plt.plot(self.lrs[n_skip_beginning:-n_skip_end], self.losses[n_skip_beginning:-n_skip_end])\n",
        "        plt.xscale('log')\n",
        "\n",
        "    def plot_loss_change(self, sma=1, n_skip_beginning=10, n_skip_end=5, y_lim=(-0.01, 0.01)):\n",
        "        \"\"\"\n",
        "        Plots rate of change of the loss function.\n",
        "        Parameters:\n",
        "            sma - number of batches for simple moving average to smooth out the curve.\n",
        "            n_skip_beginning - number of batches to skip on the left.\n",
        "            n_skip_end - number of batches to skip on the right.\n",
        "            y_lim - limits for the y axis.\n",
        "        \"\"\"\n",
        "        derivatives = self.get_derivatives(sma)[n_skip_beginning:-n_skip_end]\n",
        "        lrs = self.lrs[n_skip_beginning:-n_skip_end]\n",
        "        plt.ylabel(\"rate of loss change\")\n",
        "        plt.xlabel(\"learning rate (log scale)\")\n",
        "        plt.plot(lrs, derivatives)\n",
        "        plt.xscale('log')\n",
        "        plt.ylim(y_lim)\n",
        "\n",
        "    def get_derivatives(self, sma):\n",
        "        assert sma >= 1\n",
        "        derivatives = [0] * sma\n",
        "        for i in range(sma, len(self.lrs)):\n",
        "            derivatives.append((self.losses[i] - self.losses[i - sma]) / sma)\n",
        "        return derivatives\n",
        "\n",
        "    def get_best_lr(self, sma, n_skip_beginning=10, n_skip_end=5):\n",
        "        derivatives = self.get_derivatives(sma)\n",
        "        print(derivatives)\n",
        "        best_der_idx = np.argmax(derivatives[n_skip_beginning:-n_skip_end])\n",
        "        return self.lrs[n_skip_beginning:-n_skip_end][best_der_idx]"
      ],
      "execution_count": 0,
      "outputs": []
    },
    {
      "cell_type": "markdown",
      "metadata": {
        "id": "kQnxlO9sD1yn",
        "colab_type": "text"
      },
      "source": [
        "### Plot Model history"
      ]
    },
    {
      "cell_type": "code",
      "metadata": {
        "id": "7Txs63KuDzXg",
        "colab_type": "code",
        "trusted": true,
        "colab": {}
      },
      "source": [
        "def plot_model_history(model_history):\n",
        "    fig, axs = plt.subplots(1,2,figsize=(15,5))\n",
        "    # summarize history for accuracy\n",
        "    axs[0].plot(range(1,len(model_history.history['acc'])+1),model_history.history['acc'])\n",
        "    axs[0].plot(range(1,len(model_history.history['val_acc'])+1),model_history.history['val_acc'])\n",
        "    axs[0].set_title('Model Accuracy')\n",
        "    axs[0].set_ylabel('Accuracy')\n",
        "    axs[0].set_xlabel('Epoch')\n",
        "    axs[0].set_xticks(np.arange(1,len(model_history.history['acc'])+1),len(model_history.history['acc'])/10)\n",
        "    axs[0].legend(['train', 'val'], loc='best')\n",
        "    # summarize history for loss\n",
        "    axs[1].plot(range(1,len(model_history.history['loss'])+1),model_history.history['loss'])\n",
        "    axs[1].plot(range(1,len(model_history.history['val_loss'])+1),model_history.history['val_loss'])\n",
        "    axs[1].set_title('Model Loss')\n",
        "    axs[1].set_ylabel('Loss')\n",
        "    axs[1].set_xlabel('Epoch')\n",
        "    axs[1].set_xticks(np.arange(1,len(model_history.history['loss'])+1),len(model_history.history['loss'])/10)\n",
        "    axs[1].legend(['train', 'val'], loc='best')\n",
        "    plt.show()"
      ],
      "execution_count": 0,
      "outputs": []
    },
    {
      "cell_type": "markdown",
      "metadata": {
        "id": "XAf3IDGsLrsx",
        "colab_type": "text"
      },
      "source": [
        "### Define accuracy"
      ]
    },
    {
      "cell_type": "code",
      "metadata": {
        "id": "JrJnVZdLLqiv",
        "colab_type": "code",
        "trusted": true,
        "colab": {}
      },
      "source": [
        "def accuracy(test_x, test_y, model):\n",
        "    result = model.predict(test_x)\n",
        "    predicted_class = np.argmax(result, axis=1)\n",
        "    true_class = np.argmax(test_y, axis=1)\n",
        "    num_correct = np.sum(predicted_class == true_class) \n",
        "    accuracy = float(num_correct)/result.shape[0]\n",
        "    return (accuracy * 100)"
      ],
      "execution_count": 0,
      "outputs": []
    },
    {
      "cell_type": "markdown",
      "metadata": {
        "id": "XVY7W-Dq61-1",
        "colab_type": "text"
      },
      "source": [
        "### Random crop defination"
      ]
    },
    {
      "cell_type": "code",
      "metadata": {
        "id": "416YYMS260oD",
        "colab_type": "code",
        "trusted": true,
        "colab": {}
      },
      "source": [
        "def random_crop(x, random_crop_size = (32,32), sync_seed=None):\n",
        "    np.random.seed(sync_seed)\n",
        "    w, h = x.shape[1], x.shape[2]\n",
        "    rangew = (w - random_crop_size[0]) // 2\n",
        "    rangeh = (h - random_crop_size[1]) // 2\n",
        "    offsetw = 0 if rangew == 0 else np.random.randint(rangew)\n",
        "    offseth = 0 if rangeh == 0 else np.random.randint(rangeh)\n",
        "    return x[:, offsetw:offsetw+random_crop_size[0], offseth:offseth+random_crop_size[1]]"
      ],
      "execution_count": 0,
      "outputs": []
    },
    {
      "cell_type": "markdown",
      "metadata": {
        "id": "nOZxx9lG7yqo",
        "colab_type": "text"
      },
      "source": [
        "### Define One Cycle LR"
      ]
    },
    {
      "cell_type": "code",
      "metadata": {
        "id": "M0wQ5EvI7wWF",
        "colab_type": "code",
        "trusted": true,
        "colab": {}
      },
      "source": [
        "from sklearn.metrics import log_loss, roc_auc_score, accuracy_score\n",
        "from keras.losses import binary_crossentropy\n",
        "from keras.metrics import binary_accuracy\n",
        "from keras import backend as K\n",
        "from keras.callbacks import *\n",
        "\n",
        "class OneCycleLR(keras.callbacks.Callback):\n",
        "    \n",
        "    def __init__(self,base_lr, max_lr, step_size, base_m, max_m, cyclical_momentum):\n",
        " \n",
        "        self.base_lr = base_lr\n",
        "        self.max_lr = max_lr\n",
        "        self.base_m = base_m\n",
        "        self.max_m = max_m\n",
        "        self.cyclical_momentum = cyclical_momentum\n",
        "        self.step_size = step_size\n",
        "        \n",
        "        self.clr_iterations = 0.\n",
        "        self.cm_iterations = 0.\n",
        "        self.trn_iterations = 0.\n",
        "        self.history = {}\n",
        "        \n",
        "    def clr(self):\n",
        "        \n",
        "        cycle = np.floor(1+self.clr_iterations/(2*self.step_size))\n",
        "        \n",
        "        if cycle == 2:\n",
        "            x = np.abs(self.clr_iterations/self.step_size - 2*cycle + 1)          \n",
        "            return self.base_lr-(self.base_lr-self.base_lr/100)*np.maximum(0,(1-x))\n",
        "        \n",
        "        else:\n",
        "            x = np.abs(self.clr_iterations/self.step_size - 2*cycle + 1)\n",
        "            current_LR = self.base_lr + (self.max_lr-self.base_lr)*np.maximum(0,(1-x))\n",
        "            # print('Current LR is' ,current_LR)\n",
        "            return current_LR\n",
        "    \n",
        "    def cm(self):\n",
        "        \n",
        "        cycle = np.floor(1+self.clr_iterations/(2*self.step_size))\n",
        "        \n",
        "        if cycle == 2:\n",
        "            \n",
        "            x = np.abs(self.clr_iterations/self.step_size - 2*cycle + 1) \n",
        "            return self.max_m\n",
        "        \n",
        "        else:\n",
        "            x = np.abs(self.clr_iterations/self.step_size - 2*cycle + 1)\n",
        "            return self.max_m - (self.max_m-self.base_m)*np.maximum(0,(1-x))\n",
        "        \n",
        "        \n",
        "    def on_train_begin(self, logs={}):\n",
        "        logs = logs or {}\n",
        "\n",
        "        if self.clr_iterations == 0:\n",
        "            K.set_value(self.model.optimizer.lr, self.base_lr)\n",
        "        else:\n",
        "            K.set_value(self.model.optimizer.lr, self.clr())\n",
        "            \n",
        "        if self.cyclical_momentum == True:\n",
        "            if self.clr_iterations == 0:\n",
        "                K.set_value(self.model.optimizer.momentum, self.cm())\n",
        "            else:\n",
        "                K.set_value(self.model.optimizer.momentum, self.cm())\n",
        "            \n",
        "            \n",
        "    def on_batch_begin(self, batch, logs=None):\n",
        "        \n",
        "        logs = logs or {}\n",
        "        self.trn_iterations += 1\n",
        "        self.clr_iterations += 1\n",
        "\n",
        "        self.history.setdefault('lr', []).append(K.get_value(self.model.optimizer.lr))\n",
        "        self.history.setdefault('iterations', []).append(self.trn_iterations)\n",
        "        \n",
        "        if self.cyclical_momentum == True:\n",
        "            self.history.setdefault('momentum', []).append(K.get_value(self.model.optimizer.momentum))\n",
        "\n",
        "        for k, v in logs.items():\n",
        "            self.history.setdefault(k, []).append(v)\n",
        "        \n",
        "        K.set_value(self.model.optimizer.lr, self.clr())\n",
        "        \n",
        "        if self.cyclical_momentum == True:\n",
        "            K.set_value(self.model.optimizer.momentum, self.cm())"
      ],
      "execution_count": 0,
      "outputs": []
    },
    {
      "cell_type": "markdown",
      "metadata": {
        "id": "HfZ5T2EobZnX",
        "colab_type": "text"
      },
      "source": [
        "## Implementations"
      ]
    },
    {
      "cell_type": "markdown",
      "metadata": {
        "id": "krPN47N1LRzS",
        "colab_type": "text"
      },
      "source": [
        "###Parameters"
      ]
    },
    {
      "cell_type": "code",
      "metadata": {
        "id": "Fidbp3f3LQpS",
        "colab_type": "code",
        "trusted": true,
        "colab": {}
      },
      "source": [
        "\n",
        "# Training parameters\n",
        "batch_size = 512  \n",
        "epochs = 150\n",
        "data_augmentation = True\n",
        "classes = 10\n",
        "# Subtracting pixel mean improves accuracy\n",
        "subtract_pixel_mean = True\n",
        "\n",
        "\n"
      ],
      "execution_count": 0,
      "outputs": []
    },
    {
      "cell_type": "markdown",
      "metadata": {
        "id": "n_ThvQ74L45Q",
        "colab_type": "text"
      },
      "source": [
        "### Test and Train data split"
      ]
    },
    {
      "cell_type": "code",
      "metadata": {
        "id": "rdBoffNNq6ML",
        "colab_type": "code",
        "trusted": true,
        "colab": {}
      },
      "source": [
        "(x_train, y_train), (x_test, y_test) = tf.keras.datasets.cifar10.load_data()\n",
        "len_train, len_test = len(x_train), len(x_test)\n",
        "y_train = y_train.astype('int64').reshape(len_train)\n",
        "y_test = y_test.astype('int64').reshape(len_test)\n",
        "\n",
        "#train_mean = np.mean(x_train, axis=(0,1,2))\n",
        "train_mean = (0.4914, 0.4822, 0.4465)\n",
        "#train_std = np.std(x_train, axis=(0,1,2))\n",
        "train_std =  (0.2023, 0.1994, 0.2010)\n",
        "\n",
        "normalize = lambda x: ((x - train_mean) / train_std).astype('float32') # todo: check here\n",
        "#pad4 = lambda x: np.pad(x, [(0, 0), (0, 0), (0, 0), (0, 0)], mode='reflect')\n",
        "\n",
        "x_train = normalize(x_train)\n",
        "x_test = normalize(x_test)\n",
        "\n",
        "# Convert class vectors to binary class matrices.\n",
        "y_train = keras.utils.to_categorical(y_train, classes)\n",
        "y_test = keras.utils.to_categorical(y_test, classes)"
      ],
      "execution_count": 0,
      "outputs": []
    },
    {
      "cell_type": "markdown",
      "metadata": {
        "id": "ES3IqhGJa18k",
        "colab_type": "text"
      },
      "source": [
        "### Davidnet implementation using keras "
      ]
    },
    {
      "cell_type": "code",
      "metadata": {
        "id": "7aUmveIY2EDw",
        "colab_type": "code",
        "outputId": "fbaa7104-b4f1-4b1a-d319-9f0ed8905bc6",
        "trusted": true,
        "colab": {
          "base_uri": "https://localhost:8080/",
          "height": 0
        }
      },
      "source": [
        "def Add_BasicLayer(input, num_filter = 12, dropout_rate = 0, add_pooling = False):\n",
        "    Conv2D_1_1 = Conv2D(int(num_filter), (3,3), use_bias=False, padding='same')(input)\n",
        "    BatchNorm = BatchNormalization()(Conv2D_1_1)\n",
        "    output = Activation('relu')(BatchNorm)\n",
        "    if add_pooling:\n",
        "      output = MaxPooling2D(pool_size=(2, 2))(output)\n",
        "    if dropout_rate>0:\n",
        "      output = Dropout(dropout_rate)(output)\n",
        "    return output\n",
        "c=64\n",
        "input = Input(shape=(32, 32, 3,))\n",
        "prep = Add_BasicLayer(input, num_filter = c, dropout_rate = 0, add_pooling = False)\n",
        "\n",
        "layer1_1 = Add_BasicLayer(prep, num_filter = c * 2, dropout_rate = 0, add_pooling = True)\n",
        "layer1_2 = Add_BasicLayer(layer1_1, num_filter = c * 2, dropout_rate = 0, add_pooling = False)\n",
        "layer1_3 = Add_BasicLayer(layer1_2, num_filter = c * 2, dropout_rate = 0, add_pooling = False)\n",
        "\n",
        "#merge1 = concatenate([layer1_1, layer1_3], name='merge1')\n",
        "#Conv2D_1 = Conv2D(32, (1,1), use_bias=False, padding='same')(merge1)\n",
        "merge1 = keras.layers.add([layer1_1, layer1_3])\n",
        "\n",
        "\n",
        "layer2 = Add_BasicLayer(merge1, num_filter = c * 4, dropout_rate = 0, add_pooling = True)\n",
        "\n",
        "layer3_1 = Add_BasicLayer(layer2, num_filter = c * 8, dropout_rate = 0, add_pooling = False)\n",
        "layer3_2 = Add_BasicLayer(layer3_1, num_filter = c * 8, dropout_rate = 0, add_pooling = False)\n",
        "layer3_3 = Add_BasicLayer(layer3_2, num_filter = c * 8, dropout_rate = 0, add_pooling = False)\n",
        "\n",
        "#merge2= concatenate([layer3_1, layer3_3], name='merge2')\n",
        "merge2 = keras.layers.add([layer3_1, layer3_3])\n",
        "\n",
        "output = AveragePooling2D(pool_size = (4,4))(merge2)\n",
        "output = Flatten()(output)\n",
        "output = Dense(10)(output)\n",
        "\n",
        "# output = Conv2D(10, kernel_size=(1,1))(merge2)\n",
        "# output = AveragePooling2D(pool_size = (4,4))(output)\n",
        "# output = Flatten()(output)\n",
        "output = Activation('softmax')(output)\n",
        "\n",
        "model = Model(inputs=[input], outputs=[output])\n",
        "\n",
        "#sgd = tf.keras.optimizers.SGD(nesterov=True)\n",
        "\n",
        "sgd = optimizers.SGD(nesterov=True)\n",
        "\n",
        "#loss = custom_loss()\n",
        "\n",
        "model.compile(loss='categorical_crossentropy',\n",
        "              optimizer=sgd,\n",
        "              metrics=['accuracy'])"
      ],
      "execution_count": 10,
      "outputs": [
        {
          "output_type": "stream",
          "text": [
            "WARNING: Logging before flag parsing goes to stderr.\n",
            "W0813 02:44:23.966725 140398385862528 deprecation_wrapper.py:119] From /usr/local/lib/python3.6/dist-packages/keras/backend/tensorflow_backend.py:74: The name tf.get_default_graph is deprecated. Please use tf.compat.v1.get_default_graph instead.\n",
            "\n",
            "W0813 02:44:23.985305 140398385862528 deprecation_wrapper.py:119] From /usr/local/lib/python3.6/dist-packages/keras/backend/tensorflow_backend.py:517: The name tf.placeholder is deprecated. Please use tf.compat.v1.placeholder instead.\n",
            "\n",
            "W0813 02:44:23.989744 140398385862528 deprecation_wrapper.py:119] From /usr/local/lib/python3.6/dist-packages/keras/backend/tensorflow_backend.py:4138: The name tf.random_uniform is deprecated. Please use tf.random.uniform instead.\n",
            "\n",
            "W0813 02:44:24.018950 140398385862528 deprecation_wrapper.py:119] From /usr/local/lib/python3.6/dist-packages/keras/backend/tensorflow_backend.py:174: The name tf.get_default_session is deprecated. Please use tf.compat.v1.get_default_session instead.\n",
            "\n",
            "W0813 02:44:24.019970 140398385862528 deprecation_wrapper.py:119] From /usr/local/lib/python3.6/dist-packages/keras/backend/tensorflow_backend.py:181: The name tf.ConfigProto is deprecated. Please use tf.compat.v1.ConfigProto instead.\n",
            "\n",
            "W0813 02:44:24.526398 140398385862528 deprecation_wrapper.py:119] From /usr/local/lib/python3.6/dist-packages/keras/backend/tensorflow_backend.py:1834: The name tf.nn.fused_batch_norm is deprecated. Please use tf.compat.v1.nn.fused_batch_norm instead.\n",
            "\n",
            "W0813 02:44:24.706867 140398385862528 deprecation_wrapper.py:119] From /usr/local/lib/python3.6/dist-packages/keras/backend/tensorflow_backend.py:3976: The name tf.nn.max_pool is deprecated. Please use tf.nn.max_pool2d instead.\n",
            "\n",
            "W0813 02:44:25.312362 140398385862528 deprecation_wrapper.py:119] From /usr/local/lib/python3.6/dist-packages/keras/backend/tensorflow_backend.py:3980: The name tf.nn.avg_pool is deprecated. Please use tf.nn.avg_pool2d instead.\n",
            "\n",
            "W0813 02:44:25.357352 140398385862528 deprecation_wrapper.py:119] From /usr/local/lib/python3.6/dist-packages/keras/optimizers.py:790: The name tf.train.Optimizer is deprecated. Please use tf.compat.v1.train.Optimizer instead.\n",
            "\n"
          ],
          "name": "stderr"
        }
      ]
    },
    {
      "cell_type": "markdown",
      "metadata": {
        "id": "_wInflHNMy6q",
        "colab_type": "text"
      },
      "source": [
        "### Model Summary"
      ]
    },
    {
      "cell_type": "code",
      "metadata": {
        "id": "b-tMvNRMjBr2",
        "colab_type": "code",
        "outputId": "a6af0131-9466-4beb-c668-cb061271c7a7",
        "trusted": true,
        "colab": {
          "base_uri": "https://localhost:8080/",
          "height": 0
        }
      },
      "source": [
        "model.summary()"
      ],
      "execution_count": 11,
      "outputs": [
        {
          "output_type": "stream",
          "text": [
            "__________________________________________________________________________________________________\n",
            "Layer (type)                    Output Shape         Param #     Connected to                     \n",
            "==================================================================================================\n",
            "input_1 (InputLayer)            (None, 32, 32, 3)    0                                            \n",
            "__________________________________________________________________________________________________\n",
            "conv2d_1 (Conv2D)               (None, 32, 32, 64)   1728        input_1[0][0]                    \n",
            "__________________________________________________________________________________________________\n",
            "batch_normalization_1 (BatchNor (None, 32, 32, 64)   256         conv2d_1[0][0]                   \n",
            "__________________________________________________________________________________________________\n",
            "activation_1 (Activation)       (None, 32, 32, 64)   0           batch_normalization_1[0][0]      \n",
            "__________________________________________________________________________________________________\n",
            "conv2d_2 (Conv2D)               (None, 32, 32, 128)  73728       activation_1[0][0]               \n",
            "__________________________________________________________________________________________________\n",
            "batch_normalization_2 (BatchNor (None, 32, 32, 128)  512         conv2d_2[0][0]                   \n",
            "__________________________________________________________________________________________________\n",
            "activation_2 (Activation)       (None, 32, 32, 128)  0           batch_normalization_2[0][0]      \n",
            "__________________________________________________________________________________________________\n",
            "max_pooling2d_1 (MaxPooling2D)  (None, 16, 16, 128)  0           activation_2[0][0]               \n",
            "__________________________________________________________________________________________________\n",
            "conv2d_3 (Conv2D)               (None, 16, 16, 128)  147456      max_pooling2d_1[0][0]            \n",
            "__________________________________________________________________________________________________\n",
            "batch_normalization_3 (BatchNor (None, 16, 16, 128)  512         conv2d_3[0][0]                   \n",
            "__________________________________________________________________________________________________\n",
            "activation_3 (Activation)       (None, 16, 16, 128)  0           batch_normalization_3[0][0]      \n",
            "__________________________________________________________________________________________________\n",
            "conv2d_4 (Conv2D)               (None, 16, 16, 128)  147456      activation_3[0][0]               \n",
            "__________________________________________________________________________________________________\n",
            "batch_normalization_4 (BatchNor (None, 16, 16, 128)  512         conv2d_4[0][0]                   \n",
            "__________________________________________________________________________________________________\n",
            "activation_4 (Activation)       (None, 16, 16, 128)  0           batch_normalization_4[0][0]      \n",
            "__________________________________________________________________________________________________\n",
            "add_1 (Add)                     (None, 16, 16, 128)  0           max_pooling2d_1[0][0]            \n",
            "                                                                 activation_4[0][0]               \n",
            "__________________________________________________________________________________________________\n",
            "conv2d_5 (Conv2D)               (None, 16, 16, 256)  294912      add_1[0][0]                      \n",
            "__________________________________________________________________________________________________\n",
            "batch_normalization_5 (BatchNor (None, 16, 16, 256)  1024        conv2d_5[0][0]                   \n",
            "__________________________________________________________________________________________________\n",
            "activation_5 (Activation)       (None, 16, 16, 256)  0           batch_normalization_5[0][0]      \n",
            "__________________________________________________________________________________________________\n",
            "max_pooling2d_2 (MaxPooling2D)  (None, 8, 8, 256)    0           activation_5[0][0]               \n",
            "__________________________________________________________________________________________________\n",
            "conv2d_6 (Conv2D)               (None, 8, 8, 512)    1179648     max_pooling2d_2[0][0]            \n",
            "__________________________________________________________________________________________________\n",
            "batch_normalization_6 (BatchNor (None, 8, 8, 512)    2048        conv2d_6[0][0]                   \n",
            "__________________________________________________________________________________________________\n",
            "activation_6 (Activation)       (None, 8, 8, 512)    0           batch_normalization_6[0][0]      \n",
            "__________________________________________________________________________________________________\n",
            "conv2d_7 (Conv2D)               (None, 8, 8, 512)    2359296     activation_6[0][0]               \n",
            "__________________________________________________________________________________________________\n",
            "batch_normalization_7 (BatchNor (None, 8, 8, 512)    2048        conv2d_7[0][0]                   \n",
            "__________________________________________________________________________________________________\n",
            "activation_7 (Activation)       (None, 8, 8, 512)    0           batch_normalization_7[0][0]      \n",
            "__________________________________________________________________________________________________\n",
            "conv2d_8 (Conv2D)               (None, 8, 8, 512)    2359296     activation_7[0][0]               \n",
            "__________________________________________________________________________________________________\n",
            "batch_normalization_8 (BatchNor (None, 8, 8, 512)    2048        conv2d_8[0][0]                   \n",
            "__________________________________________________________________________________________________\n",
            "activation_8 (Activation)       (None, 8, 8, 512)    0           batch_normalization_8[0][0]      \n",
            "__________________________________________________________________________________________________\n",
            "add_2 (Add)                     (None, 8, 8, 512)    0           activation_6[0][0]               \n",
            "                                                                 activation_8[0][0]               \n",
            "__________________________________________________________________________________________________\n",
            "average_pooling2d_1 (AveragePoo (None, 2, 2, 512)    0           add_2[0][0]                      \n",
            "__________________________________________________________________________________________________\n",
            "flatten_1 (Flatten)             (None, 2048)         0           average_pooling2d_1[0][0]        \n",
            "__________________________________________________________________________________________________\n",
            "dense_1 (Dense)                 (None, 10)           20490       flatten_1[0][0]                  \n",
            "__________________________________________________________________________________________________\n",
            "activation_9 (Activation)       (None, 10)           0           dense_1[0][0]                    \n",
            "==================================================================================================\n",
            "Total params: 6,592,970\n",
            "Trainable params: 6,588,490\n",
            "Non-trainable params: 4,480\n",
            "__________________________________________________________________________________________________\n"
          ],
          "name": "stdout"
        }
      ]
    },
    {
      "cell_type": "markdown",
      "metadata": {
        "id": "Esg4pencsqWQ",
        "colab_type": "text"
      },
      "source": [
        "### Finding best LR"
      ]
    },
    {
      "cell_type": "code",
      "metadata": {
        "id": "xEdMLzNRPpBy",
        "colab_type": "code",
        "outputId": "a4246fef-9c98-43fa-ecfa-27581ac03550",
        "trusted": true,
        "colab": {
          "base_uri": "https://localhost:8080/",
          "height": 224
        }
      },
      "source": [
        "from keras.callbacks import Callback, LambdaCallback\n",
        "import math\n",
        "\n",
        "model.compile(loss='categorical_crossentropy', optimizer='ADAM', metrics=['accuracy'])\n",
        "lr_finder = LRFinder(model)\n",
        "\n",
        "# Train a model with batch size 512 for 5 epochs\n",
        "# with learning rate growing exponentially from 0.0001 to 1(but I'll try higher values like 3,4)\n",
        "lr_finder.find(x_train, y_train, start_lr=0.0001, end_lr=50, batch_size=512, epochs=5)"
      ],
      "execution_count": 12,
      "outputs": [
        {
          "output_type": "stream",
          "text": [
            "W0813 02:44:26.233270 140398385862528 deprecation.py:323] From /usr/local/lib/python3.6/dist-packages/tensorflow/python/ops/math_grad.py:1250: add_dispatch_support.<locals>.wrapper (from tensorflow.python.ops.array_ops) is deprecated and will be removed in a future version.\n",
            "Instructions for updating:\n",
            "Use tf.where in 2.0, which has the same broadcast rule as np.where\n"
          ],
          "name": "stderr"
        },
        {
          "output_type": "stream",
          "text": [
            "Epoch 1/5\n",
            "50000/50000 [==============================] - 62s 1ms/step - loss: 1.2490 - acc: 0.5584\n",
            "Epoch 2/5\n",
            "50000/50000 [==============================] - 52s 1ms/step - loss: 1.1032 - acc: 0.6413\n",
            "Epoch 3/5\n",
            "50000/50000 [==============================] - 52s 1ms/step - loss: 0.8813 - acc: 0.6971\n",
            "Epoch 4/5\n",
            "12800/50000 [======>.......................] - ETA: 38s - loss: 1.4756 - acc: 0.5557"
          ],
          "name": "stdout"
        }
      ]
    },
    {
      "cell_type": "markdown",
      "metadata": {
        "id": "ICfdY0oGmty2",
        "colab_type": "text"
      },
      "source": [
        "#### Plot Loss"
      ]
    },
    {
      "cell_type": "code",
      "metadata": {
        "id": "sTmwyWEOmt7T",
        "colab_type": "code",
        "colab": {
          "base_uri": "https://localhost:8080/",
          "height": 287
        },
        "outputId": "f7d17b4b-99d9-4ac7-d2ae-f7158bdbc06b"
      },
      "source": [
        "# Plot the loss, ignore 20 batches in the beginning and 5 in the end\n",
        "lr_finder.plot_loss(n_skip_beginning=1, n_skip_end=5) # changed n_skip_beginning from 20 to 1"
      ],
      "execution_count": 13,
      "outputs": [
        {
          "output_type": "display_data",
          "data": {
            "image/png": "[encoded data removed]",
            "text/plain": [
              "<Figure size 432x288 with 1 Axes>"
            ]
          },
          "metadata": {
            "tags": []
          }
        }
      ]
    },
    {
      "cell_type": "code",
      "metadata": {
        "id": "NkScG3KIm6CY",
        "colab_type": "code",
        "colab": {
          "base_uri": "https://localhost:8080/",
          "height": 287
        },
        "outputId": "51b2df6f-acba-484c-9d2a-6202785fa80a"
      },
      "source": [
        "# Plot rate of change of the loss\n",
        "# Ignore 20 batches in the beginning and 5 in the end\n",
        "# Smooth the curve using simple moving average of 20 batches\n",
        "# Limit the range for y axis to (-0.02, 0.01)\n",
        "lr_finder.plot_loss_change(sma=20, n_skip_beginning=20, n_skip_end=5, y_lim=(-0.01, 0.01))"
      ],
      "execution_count": 14,
      "outputs": [
        {
          "output_type": "display_data",
          "data": {
            "image/png": "[encoded data removed]",
            "text/plain": [
              "<Figure size 432x288 with 1 Axes>"
            ]
          },
          "metadata": {
            "tags": []
          }
        }
      ]
    },
    {
      "cell_type": "code",
      "metadata": {
        "id": "Ar1evM0PPtvn",
        "colab_type": "code",
        "outputId": "7e5a34bf-35d6-42de-ccf5-cc9aba37f5b2",
        "trusted": true,
        "colab": {
          "base_uri": "https://localhost:8080/",
          "height": 71
        }
      },
      "source": [
        "bestLr = lr_finder.get_best_lr(sma=20)\n",
        "print(bestLr)"
      ],
      "execution_count": 15,
      "outputs": [
        {
          "output_type": "stream",
          "text": [
            "[0, 0, 0, 0, 0, 0, 0, 0, 0, 0, 0, 0, 0, 0, 0, 0, 0, 0, 0, 0, -0.08968098759651184, -0.0469321072101593, -0.03445432186126709, -0.03699927926063538, -0.02897096276283264, -0.025649797916412354, -0.027271300554275513, -0.02051992416381836, -0.019946295022964477, -0.0174816370010376, -0.014960986375808717, -0.020664727687835692, -0.017206913232803343, -0.012051379680633545, -0.014343839883804322, -0.013020187616348267, -0.009174537658691407, -0.009180635213851929, -0.009899705648422241, -0.010146087408065796, -0.009800279140472412, -0.007459920644760132, -0.007264232635498047, -0.004228365421295166, -0.008168172836303712, -0.0041477024555206295, -0.004015260934829712, -0.007906961441040038, -0.009109342098236084, -0.01267736554145813, -0.011653411388397216, -0.00012325048446655275, -0.007739925384521484, -0.002312976121902466, -0.01190827488899231, -0.009632813930511474, -0.007562482357025146, -0.005399453639984131, -0.011832207441329956, -0.006457477807998657, -0.00472765564918518, -0.0034248292446136474, -0.002699613571166992, -0.004192829132080078, -0.0015537619590759277, -0.008395951986312867, -0.0045224249362945555, -0.003991603851318359, -0.0006950557231903076, 0.004640942811965943, -0.005245429277420044, -0.013230603933334351, -0.005023843050003052, -0.00669867992401123, -0.002947998046875, -0.0039579510688781735, 0.0051362931728363035, -0.009032124280929565, 0.0008168578147888184, 0.0011381924152374268, -0.001956921815872192, -0.002962082624435425, -0.007161515951156616, -0.00860947072505951, 0.0017737925052642822, -0.007048720121383667, -0.0034311532974243162, -0.0015720367431640626, -0.008739998936653138, -0.004566740989685058, -0.0014361977577209474, 0.0032466888427734376, -0.0031592130661010744, -0.00040227174758911133, -0.000835159420967102, -0.0006908029317855835, -0.013067448139190673, -0.002177107334136963, -0.001014763116836548, -0.01298048198223114, -0.004936710000038147, -0.00599367618560791, -0.00016300976276397705, 0.00018559098243713378, -0.011386799812316894, 0.004588496685028076, -0.0051879346370697025, -0.002275407314300537, -0.0010046005249023438, -0.00835234522819519, -0.000454181432723999, -0.0013555437326431274, -0.004576379060745239, -0.0016534537076950072, 0.0027216106653213503, -0.003001609444618225, 0.0017996728420257568, 0.003332272171974182, -0.007343211770057678, 0.0032361119985580443, -0.003759044408798218, -0.005823686718940735, 0.004056230187416077, -0.0065668076276779175, 0.0028301090002059936, -0.001528710126876831, -0.0006083250045776367, -0.002551490068435669, 0.0017852157354354859, 0.0008627384901046753, 0.004218149185180664, 0.0032101184129714965, 0.00488162636756897, -0.0045525521039962765, -0.006234309077262879, -0.0006034791469573975, -0.0009217888116836547, 0.011311337351799011, 0.0008551418781280517, 0.008806437253952026, -0.0007991373538970947, 0.007991859316825866, -0.00809929370880127, 0.001503288745880127, -0.002332308888435364, -0.0033158838748931887, -0.0008969664573669434, -0.005539596080780029, 0.005782026052474976, 0.003801378607749939, -0.002805301547050476, -0.0012128353118896484, -9.527504444122315e-05, -0.0008329182863235473, 0.008819970488548278, 0.002997744083404541, 0.023087915778160096, -0.010263174772262573, 0.017690357565879822, 0.00037689805030822755, 0.03984058201313019, -0.001879364252090454, 0.02272736430168152, 0.02714592218399048, 0.02529548406600952, 0.021800798177719117, 0.005092912912368774, 0.019393676519393922, 0.026389998197555543, 0.01952648162841797, 0.0303135484457016, 0.027733343839645385, 0.04619322121143341, 0.04106023609638214, 0.01451871395111084, 0.042967033386230466, 0.005878978967666626, 0.01596776247024536, 0.015395981073379517, 0.009569096565246581, 0.0021192312240600588, 0.016592800617218018, 0.008517754077911378, 0.005222779512405395, -0.013485419750213622, -0.005869126319885254, 0.007100003957748413, -0.006105995178222657, -0.022788703441619873, -0.008748805522918702, -0.01833375096321106, -0.02443908452987671, -0.044390881061553956, -0.03274454474449158, -0.003849309682846069, -0.022031527757644654, -0.020408540964126587, -0.006813812255859375, -0.02716165781021118, -0.004351091384887695, -0.034722745418548584, -0.016921886801719667, -0.027572092413902283, -0.024469402432441712, -0.007619753479957581, -0.02098618745803833, -0.012182283401489257, -0.0111025869846344, -0.011891525983810425, -0.011306992173194886, -0.014980307221412659, -0.006993207335472107, -0.0021378040313720704, -0.002128636837005615, -0.018310898542404176, -0.021495634317398073, -0.010425743460655213, -0.010258901119232177, -0.006849724054336548, -0.012499776482582093, -0.006710016727447509, -0.002296748757362366, -0.006618902087211609, -0.0061339884996414185, -0.00816975235939026, -0.005958884954452515, 0.001268640160560608, -0.005734607577323914, -0.005117523670196533, -0.001048162579536438, -0.00014539062976837158, 0.0013074517250061036, -0.008734869956970214, -0.00822291374206543, -0.0002984523773193359, -0.0007551491260528564, -0.0025932133197784425, -0.008296999335289, -0.0029450923204421995, -0.004593750834465027, 0.00041382312774658204, -0.0038856327533721923, 0.000965958833694458, -0.0007344841957092285, 0.007674744725227356, 0.0046856701374053955, -0.002813553810119629, 0.0026261359453201294, 0.0014680176973342896, -0.002141481637954712, -0.0060883045196533205, -0.009729179739952087, -0.004427078366279602, -0.003065359592437744, -0.00856059193611145, -0.00822111964225769, -0.007314929366111755, 0.003816491365432739, -0.003003960847854614, 0.001770329475402832, 0.0032606959342956544, -0.0024214446544647216, 0.0016761690378189087, -0.001626250147819519, -0.011353489756584168, -0.0012945353984832764, -0.00498167872428894, -0.0032498657703399656, -0.004018926620483398, -0.00047562718391418456, 0.0008139729499816895, 0.004217565059661865, 0.003342941403388977, 0.0006220072507858276, 0.011268717050552369, 0.004750171303749084, 0.005885747075080871, -0.0027547985315322875, 0.0038908541202545164, -0.000870603322982788, -0.0010043084621429443, 0.0003510653972625732, -0.00044040679931640626, 0.005563268065452575, 0.006854423880577087, 0.009575435519218444, 0.007368108630180359, 0.008604049682617188, 0.017612966895103454, 0.006780856847763061, 0.017369651794433595, 0.0036019295454025268, 0.01041368842124939, 0.007452183961868286, 0.006567174196243286, 0.01988174021244049, 0.024386659264564514, 0.014304268360137939, 0.0210009902715683, 0.01758763790130615, 0.023213881254196166, 0.024732428789138793, 0.01322912871837616, 0.020349401235580444, 0.008009666204452514, 0.012473770976066589, 0.01033552885055542, 0.00904276967048645, -0.0069619804620742794, 0.008908271789550781, 0.03258610367774963, 0.05254619121551514, 0.08080416321754455, 0.04535928070545196, 0.03592748641967773, 0.005516141653060913, 0.005222523212432861, 0.03138368129730225, 0.10352610349655152]\n",
            "0.43803126\n"
          ],
          "name": "stdout"
        }
      ]
    },
    {
      "cell_type": "markdown",
      "metadata": {
        "id": "3JPjTR4MMkVd",
        "colab_type": "text"
      },
      "source": [
        "### Set best starting LR and Compile model "
      ]
    },
    {
      "cell_type": "code",
      "metadata": {
        "id": "wMSFVdupo-wp",
        "colab_type": "code",
        "colab": {}
      },
      "source": [
        "from keras.optimizers import SGD\n",
        "\n",
        "sgd = SGD(lr=bestLr, momentum=0.9, decay=5e-4, nesterov=False)\n",
        "K.set_value(model.optimizer.lr, 0.5 * K.get_value(sgd.lr))\n",
        "\n",
        "model.compile(loss='categorical_crossentropy', optimizer=sgd, metrics=['accuracy'])"
      ],
      "execution_count": 0,
      "outputs": []
    },
    {
      "cell_type": "markdown",
      "metadata": {
        "id": "0Oh2csQYQj3g",
        "colab_type": "text"
      },
      "source": [
        "### Define CLR parameters and model fitting"
      ]
    },
    {
      "cell_type": "code",
      "metadata": {
        "id": "2_4UxJVru-Ri",
        "colab_type": "code",
        "outputId": "f2096cef-c128-4e56-bdb9-a3f4187e5ec2",
        "trusted": true,
        "colab": {
          "base_uri": "https://localhost:8080/",
          "height": 1000
        }
      },
      "source": [
        "# from keras.utils import Sequence\n",
        "\n",
        "\n",
        "# # Prepare model model saving directory.\n",
        "# save_dir = os.path.join(os.getcwd(), 'saved_models')\n",
        "# #model_name = 'cifar10_%s_model.{epoch:03d}.h5' % model_type\n",
        "# if not os.path.isdir(save_dir):\n",
        "#     os.makedirs(save_dir)\n",
        "    \n",
        "    \n",
        "#filepath = os.path.join(save_dir, model_name)\n",
        "filepath = \"model_accuracy_Assignment_14.best.hdf5\"\n",
        "\n",
        "\n",
        "# Prepare callbacks for model saving and for learning rate adjustment.\n",
        "checkpoint = ModelCheckpoint (\n",
        "                             filepath=filepath,\n",
        "                             monitor='val_acc',\n",
        "                             verbose=1,\n",
        "                             save_best_only=True)\n",
        "\n",
        "\n",
        "es = EarlyStopping(monitor='val_loss', mode='min', verbose=1, patience=50,min_delta=0.01)\n",
        "\n",
        "\n",
        "\n",
        "# Cyclic LR parameters\n",
        "max_lr = bestLr\n",
        "base_lr = bestLr//5\n",
        "max_m = 0.95\n",
        "base_m = 0.90\n",
        "cyclical_momentum = True\n",
        "augment = True\n",
        "cycles = 5\n",
        "\n",
        "iterations = round(len(x_train)/batch_size*epochs)\n",
        "iterations = list(range(0,iterations+1))\n",
        "step_size = len(iterations)/(cycles)\n",
        "\n",
        "clr =  OneCycleLR(base_lr=base_lr,\n",
        "                max_lr=max_lr,\n",
        "                step_size=step_size,\n",
        "                max_m=max_m,\n",
        "                base_m=base_m,\n",
        "                cyclical_momentum=cyclical_momentum)\n",
        "\n",
        "                         \n",
        "                       \n",
        "\n",
        "#callbacks = [checkpoint,clr_triangular] # Last working\n",
        "\n",
        "callbacks =  [es , clr]\n",
        "\n",
        "# get_random_eraser(p=0.5, s_l=0.02, s_h=0.4, r_1=0.3, r_2=1/0.3, v_l=0, v_h=255, pixel_level=False)\n",
        "\n",
        "datagen = ImageDataGenerator(zoom_range=0.0, \n",
        "                             #width_shift_range=0.1, \n",
        "                             #height_shift_range=0.1,\n",
        "                             horizontal_flip=0.5,\n",
        "                            preprocessing_function=get_random_eraser(p=0.3,s_l=0.02, s_h=0.3, r_1=0.3, r_2=1/0.3, v_l=0, v_h=1, pixel_level=False))\n",
        "\n",
        "    \n",
        "# # Compute quantities required for featurewise normalization\n",
        "# # (std, mean, and principal components if ZCA whitening is applied).\n",
        "# datagen.fit(x_train)\n",
        "    \n",
        "   \n",
        "# Fit the model on the batches generated by datagen.flow().\n",
        "model_info = model.fit_generator(datagen.flow(random_crop(x_train), y_train, batch_size=batch_size),\n",
        "                    steps_per_epoch=x_train.shape[0] // batch_size,\n",
        "                    validation_steps = x_train.shape[0] // batch_size,\n",
        "                    validation_data=(random_crop(x_test), y_test),\n",
        "                    epochs=epochs, verbose=1, workers=4,\n",
        "                    callbacks=callbacks)\n",
        "  \n",
        " \n",
        "# plot model history\n",
        "plot_model_history(model_info)\n",
        "# compute test accuracy\n",
        "print (\"Accuracy on test data is: %0.2f\"%accuracy(x_test, y_test, model))\n",
        "\n",
        "print(\"--- Total %s seconds ---\" % (time.time() - start_time))"
      ],
      "execution_count": 19,
      "outputs": [
        {
          "output_type": "stream",
          "text": [
            "Epoch 1/150\n",
            "97/97 [==============================] - 56s 574ms/step - loss: 1.6215 - acc: 0.4251 - val_loss: 3.0181 - val_acc: 0.1000\n",
            "Epoch 2/150\n",
            "97/97 [==============================] - 53s 551ms/step - loss: 1.1612 - acc: 0.6052 - val_loss: 2.6711 - val_acc: 0.1000\n",
            "Epoch 3/150\n",
            "97/97 [==============================] - 53s 551ms/step - loss: 1.1094 - acc: 0.6551 - val_loss: 2.6598 - val_acc: 0.1667\n",
            "Epoch 4/150\n",
            "97/97 [==============================] - 54s 552ms/step - loss: 0.8384 - acc: 0.7282 - val_loss: 1.6390 - val_acc: 0.4306\n",
            "Epoch 5/150\n",
            "97/97 [==============================] - 54s 553ms/step - loss: 0.7169 - acc: 0.7677 - val_loss: 1.2175 - val_acc: 0.6345\n",
            "Epoch 6/150\n",
            "97/97 [==============================] - 54s 553ms/step - loss: 0.6382 - acc: 0.7923 - val_loss: 1.8183 - val_acc: 0.5083\n",
            "Epoch 7/150\n",
            "97/97 [==============================] - 54s 552ms/step - loss: 0.5224 - acc: 0.8242 - val_loss: 1.1129 - val_acc: 0.6787\n",
            "Epoch 8/150\n",
            "97/97 [==============================] - 54s 552ms/step - loss: 0.4571 - acc: 0.8447 - val_loss: 0.8725 - val_acc: 0.7458\n",
            "Epoch 9/150\n",
            "97/97 [==============================] - 53s 551ms/step - loss: 0.4382 - acc: 0.8536 - val_loss: 0.9755 - val_acc: 0.7509\n",
            "Epoch 10/150\n",
            "97/97 [==============================] - 54s 552ms/step - loss: 0.3520 - acc: 0.8786 - val_loss: 0.6791 - val_acc: 0.7701\n",
            "Epoch 11/150\n",
            "97/97 [==============================] - 54s 552ms/step - loss: 0.2896 - acc: 0.9001 - val_loss: 0.6033 - val_acc: 0.8115\n",
            "Epoch 12/150\n",
            "97/97 [==============================] - 54s 553ms/step - loss: 0.2506 - acc: 0.9130 - val_loss: 0.6558 - val_acc: 0.8062\n",
            "Epoch 13/150\n",
            "97/97 [==============================] - 53s 551ms/step - loss: 0.2213 - acc: 0.9230 - val_loss: 0.8492 - val_acc: 0.7666\n",
            "Epoch 14/150\n",
            "97/97 [==============================] - 54s 552ms/step - loss: 0.2026 - acc: 0.9297 - val_loss: 0.7888 - val_acc: 0.7593\n",
            "Epoch 15/150\n",
            "97/97 [==============================] - 54s 552ms/step - loss: 0.1812 - acc: 0.9378 - val_loss: 0.6406 - val_acc: 0.8073\n",
            "Epoch 16/150\n",
            "97/97 [==============================] - 54s 552ms/step - loss: 0.1629 - acc: 0.9439 - val_loss: 0.7170 - val_acc: 0.7995\n",
            "Epoch 17/150\n",
            "97/97 [==============================] - 53s 551ms/step - loss: 0.1432 - acc: 0.9500 - val_loss: 0.7776 - val_acc: 0.7766\n",
            "Epoch 18/150\n",
            "97/97 [==============================] - 54s 552ms/step - loss: 0.1208 - acc: 0.9584 - val_loss: 0.5006 - val_acc: 0.8557\n",
            "Epoch 19/150\n",
            "97/97 [==============================] - 54s 553ms/step - loss: 0.1064 - acc: 0.9626 - val_loss: 0.4657 - val_acc: 0.8659\n",
            "Epoch 20/150\n",
            "97/97 [==============================] - 54s 552ms/step - loss: 0.1004 - acc: 0.9651 - val_loss: 0.4363 - val_acc: 0.8661\n",
            "Epoch 21/150\n",
            "97/97 [==============================] - 54s 552ms/step - loss: 0.0913 - acc: 0.9689 - val_loss: 0.4430 - val_acc: 0.8650\n",
            "Epoch 22/150\n",
            "97/97 [==============================] - 53s 551ms/step - loss: 0.0790 - acc: 0.9731 - val_loss: 0.6750 - val_acc: 0.8170\n",
            "Epoch 23/150\n",
            "97/97 [==============================] - 54s 552ms/step - loss: 0.0731 - acc: 0.9747 - val_loss: 0.5372 - val_acc: 0.8661\n",
            "Epoch 24/150\n",
            "97/97 [==============================] - 53s 551ms/step - loss: 0.0714 - acc: 0.9759 - val_loss: 0.5160 - val_acc: 0.8629\n",
            "Epoch 25/150\n",
            "97/97 [==============================] - 54s 552ms/step - loss: 0.0651 - acc: 0.9772 - val_loss: 0.4960 - val_acc: 0.8645\n",
            "Epoch 26/150\n",
            "97/97 [==============================] - 54s 552ms/step - loss: 0.0625 - acc: 0.9788 - val_loss: 0.5993 - val_acc: 0.8499\n",
            "Epoch 27/150\n",
            "97/97 [==============================] - 54s 552ms/step - loss: 0.0540 - acc: 0.9818 - val_loss: 0.6695 - val_acc: 0.8526\n",
            "Epoch 28/150\n",
            "97/97 [==============================] - 54s 552ms/step - loss: 0.0543 - acc: 0.9814 - val_loss: 0.5398 - val_acc: 0.8563\n",
            "Epoch 29/150\n",
            "97/97 [==============================] - 54s 552ms/step - loss: 0.0488 - acc: 0.9836 - val_loss: 0.5624 - val_acc: 0.8671\n",
            "Epoch 30/150\n",
            "97/97 [==============================] - 54s 553ms/step - loss: 0.0456 - acc: 0.9849 - val_loss: 0.4824 - val_acc: 0.8843\n",
            "Epoch 31/150\n",
            "97/97 [==============================] - 54s 552ms/step - loss: 0.0420 - acc: 0.9858 - val_loss: 0.6204 - val_acc: 0.8686\n",
            "Epoch 32/150\n",
            "97/97 [==============================] - 54s 553ms/step - loss: 0.0378 - acc: 0.9873 - val_loss: 0.6082 - val_acc: 0.8655\n",
            "Epoch 33/150\n",
            "97/97 [==============================] - 54s 553ms/step - loss: 0.0377 - acc: 0.9873 - val_loss: 0.5303 - val_acc: 0.8817\n",
            "Epoch 34/150\n",
            "97/97 [==============================] - 54s 553ms/step - loss: 0.0337 - acc: 0.9894 - val_loss: 0.4602 - val_acc: 0.8850\n",
            "Epoch 35/150\n",
            "97/97 [==============================] - 53s 551ms/step - loss: 0.0339 - acc: 0.9888 - val_loss: 0.5305 - val_acc: 0.8886\n",
            "Epoch 36/150\n",
            "97/97 [==============================] - 54s 552ms/step - loss: 0.0294 - acc: 0.9903 - val_loss: 0.5278 - val_acc: 0.8747\n",
            "Epoch 37/150\n",
            "97/97 [==============================] - 53s 551ms/step - loss: 0.0291 - acc: 0.9906 - val_loss: 0.4654 - val_acc: 0.8952\n",
            "Epoch 38/150\n",
            "97/97 [==============================] - 54s 552ms/step - loss: 0.0288 - acc: 0.9904 - val_loss: 0.5416 - val_acc: 0.8827\n",
            "Epoch 39/150\n",
            "97/97 [==============================] - 54s 552ms/step - loss: 0.0249 - acc: 0.9918 - val_loss: 0.4579 - val_acc: 0.8933\n",
            "Epoch 40/150\n",
            "97/97 [==============================] - 54s 552ms/step - loss: 0.0256 - acc: 0.9915 - val_loss: 0.4267 - val_acc: 0.8943\n",
            "Epoch 41/150\n",
            "97/97 [==============================] - 54s 552ms/step - loss: 0.0229 - acc: 0.9923 - val_loss: 0.4584 - val_acc: 0.8921\n",
            "Epoch 42/150\n",
            "97/97 [==============================] - 54s 552ms/step - loss: 0.0211 - acc: 0.9929 - val_loss: 0.5158 - val_acc: 0.8850\n",
            "Epoch 43/150\n",
            "97/97 [==============================] - 54s 553ms/step - loss: 0.0190 - acc: 0.9936 - val_loss: 0.4479 - val_acc: 0.8938\n",
            "Epoch 44/150\n",
            "97/97 [==============================] - 54s 552ms/step - loss: 0.0179 - acc: 0.9943 - val_loss: 0.4236 - val_acc: 0.9013\n",
            "Epoch 45/150\n",
            "97/97 [==============================] - 54s 552ms/step - loss: 0.0192 - acc: 0.9937 - val_loss: 0.4204 - val_acc: 0.9024\n",
            "Epoch 46/150\n",
            "97/97 [==============================] - 54s 552ms/step - loss: 0.0182 - acc: 0.9939 - val_loss: 0.4623 - val_acc: 0.9011\n",
            "Epoch 47/150\n",
            "97/97 [==============================] - 54s 552ms/step - loss: 0.0165 - acc: 0.9945 - val_loss: 0.4531 - val_acc: 0.8980\n",
            "Epoch 48/150\n",
            "97/97 [==============================] - 54s 552ms/step - loss: 0.0150 - acc: 0.9952 - val_loss: 0.4034 - val_acc: 0.9047\n",
            "Epoch 49/150\n",
            "97/97 [==============================] - 54s 552ms/step - loss: 0.0158 - acc: 0.9952 - val_loss: 0.4101 - val_acc: 0.9079\n",
            "Epoch 50/150\n",
            "97/97 [==============================] - 54s 553ms/step - loss: 0.0154 - acc: 0.9948 - val_loss: 0.4322 - val_acc: 0.9075\n",
            "Epoch 51/150\n",
            "97/97 [==============================] - 54s 553ms/step - loss: 0.0146 - acc: 0.9951 - val_loss: 0.4073 - val_acc: 0.9111\n",
            "Epoch 52/150\n",
            "97/97 [==============================] - 54s 553ms/step - loss: 0.0142 - acc: 0.9956 - val_loss: 0.3948 - val_acc: 0.9108\n",
            "Epoch 53/150\n",
            "97/97 [==============================] - 54s 552ms/step - loss: 0.0120 - acc: 0.9961 - val_loss: 0.3824 - val_acc: 0.9101\n",
            "Epoch 54/150\n",
            "97/97 [==============================] - 54s 552ms/step - loss: 0.0113 - acc: 0.9966 - val_loss: 0.3839 - val_acc: 0.9105\n",
            "Epoch 55/150\n",
            "97/97 [==============================] - 54s 552ms/step - loss: 0.0125 - acc: 0.9956 - val_loss: 0.3805 - val_acc: 0.9133\n",
            "Epoch 56/150\n",
            "97/97 [==============================] - 54s 553ms/step - loss: 0.0111 - acc: 0.9965 - val_loss: 0.3823 - val_acc: 0.9136\n",
            "Epoch 57/150\n",
            "97/97 [==============================] - 53s 551ms/step - loss: 0.0109 - acc: 0.9962 - val_loss: 0.3739 - val_acc: 0.9137\n",
            "Epoch 58/150\n",
            "97/97 [==============================] - 54s 552ms/step - loss: 0.0101 - acc: 0.9967 - val_loss: 0.3719 - val_acc: 0.9145\n",
            "Epoch 59/150\n",
            "97/97 [==============================] - 54s 552ms/step - loss: 0.0099 - acc: 0.9967 - val_loss: 0.3677 - val_acc: 0.9158\n",
            "Epoch 60/150\n",
            "97/97 [==============================] - 54s 553ms/step - loss: 0.0109 - acc: 0.9964 - val_loss: 0.3653 - val_acc: 0.9159\n",
            "Epoch 61/150\n",
            "97/97 [==============================] - 54s 552ms/step - loss: 0.0110 - acc: 0.9966 - val_loss: 0.3660 - val_acc: 0.9167\n",
            "Epoch 62/150\n",
            "97/97 [==============================] - 54s 552ms/step - loss: 0.0102 - acc: 0.9967 - val_loss: 0.3662 - val_acc: 0.9164\n",
            "Epoch 63/150\n",
            "97/97 [==============================] - 54s 553ms/step - loss: 0.0101 - acc: 0.9969 - val_loss: 0.3666 - val_acc: 0.9165\n",
            "Epoch 64/150\n",
            "97/97 [==============================] - 54s 552ms/step - loss: 0.0100 - acc: 0.9966 - val_loss: 0.3665 - val_acc: 0.9166\n",
            "Epoch 65/150\n",
            "97/97 [==============================] - 54s 552ms/step - loss: 0.0100 - acc: 0.9964 - val_loss: 0.3664 - val_acc: 0.9164\n",
            "Epoch 66/150\n",
            "97/97 [==============================] - 54s 553ms/step - loss: 0.0102 - acc: 0.9967 - val_loss: 0.3662 - val_acc: 0.9165\n",
            "Epoch 67/150\n",
            "97/97 [==============================] - 54s 552ms/step - loss: 0.0100 - acc: 0.9967 - val_loss: 0.3667 - val_acc: 0.9165\n",
            "Epoch 68/150\n",
            "50/97 [==============>...............] - ETA: 24s - loss: 0.0087 - acc: 0.9972"
          ],
          "name": "stdout"
        },
        {
          "output_type": "error",
          "ename": "KeyboardInterrupt",
          "evalue": "ignored",
          "traceback": [
            "\u001b[0;31m---------------------------------------------------------------------------\u001b[0m",
            "\u001b[0;31mKeyboardInterrupt\u001b[0m                         Traceback (most recent call last)",
            "\u001b[0;32m<ipython-input-19-1e64feae2778>\u001b[0m in \u001b[0;36m<module>\u001b[0;34m()\u001b[0m\n\u001b[1;32m     61\u001b[0m                     \u001b[0mvalidation_data\u001b[0m\u001b[0;34m=\u001b[0m\u001b[0;34m(\u001b[0m\u001b[0mrandom_crop\u001b[0m\u001b[0;34m(\u001b[0m\u001b[0mx_test\u001b[0m\u001b[0;34m)\u001b[0m\u001b[0;34m,\u001b[0m \u001b[0my_test\u001b[0m\u001b[0;34m)\u001b[0m\u001b[0;34m,\u001b[0m\u001b[0;34m\u001b[0m\u001b[0;34m\u001b[0m\u001b[0m\n\u001b[1;32m     62\u001b[0m                     \u001b[0mepochs\u001b[0m\u001b[0;34m=\u001b[0m\u001b[0mepochs\u001b[0m\u001b[0;34m,\u001b[0m \u001b[0mverbose\u001b[0m\u001b[0;34m=\u001b[0m\u001b[0;36m1\u001b[0m\u001b[0;34m,\u001b[0m \u001b[0mworkers\u001b[0m\u001b[0;34m=\u001b[0m\u001b[0;36m4\u001b[0m\u001b[0;34m,\u001b[0m\u001b[0;34m\u001b[0m\u001b[0;34m\u001b[0m\u001b[0m\n\u001b[0;32m---> 63\u001b[0;31m                     callbacks=callbacks)\n\u001b[0m\u001b[1;32m     64\u001b[0m \u001b[0;34m\u001b[0m\u001b[0m\n\u001b[1;32m     65\u001b[0m \u001b[0;34m\u001b[0m\u001b[0m\n",
            "\u001b[0;32m/usr/local/lib/python3.6/dist-packages/keras/legacy/interfaces.py\u001b[0m in \u001b[0;36mwrapper\u001b[0;34m(*args, **kwargs)\u001b[0m\n\u001b[1;32m     89\u001b[0m                 warnings.warn('Update your `' + object_name + '` call to the ' +\n\u001b[1;32m     90\u001b[0m                               'Keras 2 API: ' + signature, stacklevel=2)\n\u001b[0;32m---> 91\u001b[0;31m             \u001b[0;32mreturn\u001b[0m \u001b[0mfunc\u001b[0m\u001b[0;34m(\u001b[0m\u001b[0;34m*\u001b[0m\u001b[0margs\u001b[0m\u001b[0;34m,\u001b[0m \u001b[0;34m**\u001b[0m\u001b[0mkwargs\u001b[0m\u001b[0;34m)\u001b[0m\u001b[0;34m\u001b[0m\u001b[0;34m\u001b[0m\u001b[0m\n\u001b[0m\u001b[1;32m     92\u001b[0m         \u001b[0mwrapper\u001b[0m\u001b[0;34m.\u001b[0m\u001b[0m_original_function\u001b[0m \u001b[0;34m=\u001b[0m \u001b[0mfunc\u001b[0m\u001b[0;34m\u001b[0m\u001b[0;34m\u001b[0m\u001b[0m\n\u001b[1;32m     93\u001b[0m         \u001b[0;32mreturn\u001b[0m \u001b[0mwrapper\u001b[0m\u001b[0;34m\u001b[0m\u001b[0;34m\u001b[0m\u001b[0m\n",
            "\u001b[0;32m/usr/local/lib/python3.6/dist-packages/keras/engine/training.py\u001b[0m in \u001b[0;36mfit_generator\u001b[0;34m(self, generator, steps_per_epoch, epochs, verbose, callbacks, validation_data, validation_steps, class_weight, max_queue_size, workers, use_multiprocessing, shuffle, initial_epoch)\u001b[0m\n\u001b[1;32m   1416\u001b[0m             \u001b[0muse_multiprocessing\u001b[0m\u001b[0;34m=\u001b[0m\u001b[0muse_multiprocessing\u001b[0m\u001b[0;34m,\u001b[0m\u001b[0;34m\u001b[0m\u001b[0;34m\u001b[0m\u001b[0m\n\u001b[1;32m   1417\u001b[0m             \u001b[0mshuffle\u001b[0m\u001b[0;34m=\u001b[0m\u001b[0mshuffle\u001b[0m\u001b[0;34m,\u001b[0m\u001b[0;34m\u001b[0m\u001b[0;34m\u001b[0m\u001b[0m\n\u001b[0;32m-> 1418\u001b[0;31m             initial_epoch=initial_epoch)\n\u001b[0m\u001b[1;32m   1419\u001b[0m \u001b[0;34m\u001b[0m\u001b[0m\n\u001b[1;32m   1420\u001b[0m     \u001b[0;34m@\u001b[0m\u001b[0minterfaces\u001b[0m\u001b[0;34m.\u001b[0m\u001b[0mlegacy_generator_methods_support\u001b[0m\u001b[0;34m\u001b[0m\u001b[0;34m\u001b[0m\u001b[0m\n",
            "\u001b[0;32m/usr/local/lib/python3.6/dist-packages/keras/engine/training_generator.py\u001b[0m in \u001b[0;36mfit_generator\u001b[0;34m(model, generator, steps_per_epoch, epochs, verbose, callbacks, validation_data, validation_steps, class_weight, max_queue_size, workers, use_multiprocessing, shuffle, initial_epoch)\u001b[0m\n\u001b[1;32m    215\u001b[0m                 outs = model.train_on_batch(x, y,\n\u001b[1;32m    216\u001b[0m                                             \u001b[0msample_weight\u001b[0m\u001b[0;34m=\u001b[0m\u001b[0msample_weight\u001b[0m\u001b[0;34m,\u001b[0m\u001b[0;34m\u001b[0m\u001b[0;34m\u001b[0m\u001b[0m\n\u001b[0;32m--> 217\u001b[0;31m                                             class_weight=class_weight)\n\u001b[0m\u001b[1;32m    218\u001b[0m \u001b[0;34m\u001b[0m\u001b[0m\n\u001b[1;32m    219\u001b[0m                 \u001b[0mouts\u001b[0m \u001b[0;34m=\u001b[0m \u001b[0mto_list\u001b[0m\u001b[0;34m(\u001b[0m\u001b[0mouts\u001b[0m\u001b[0;34m)\u001b[0m\u001b[0;34m\u001b[0m\u001b[0;34m\u001b[0m\u001b[0m\n",
            "\u001b[0;32m/usr/local/lib/python3.6/dist-packages/keras/engine/training.py\u001b[0m in \u001b[0;36mtrain_on_batch\u001b[0;34m(self, x, y, sample_weight, class_weight)\u001b[0m\n\u001b[1;32m   1215\u001b[0m             \u001b[0mins\u001b[0m \u001b[0;34m=\u001b[0m \u001b[0mx\u001b[0m \u001b[0;34m+\u001b[0m \u001b[0my\u001b[0m \u001b[0;34m+\u001b[0m \u001b[0msample_weights\u001b[0m\u001b[0;34m\u001b[0m\u001b[0;34m\u001b[0m\u001b[0m\n\u001b[1;32m   1216\u001b[0m         \u001b[0mself\u001b[0m\u001b[0;34m.\u001b[0m\u001b[0m_make_train_function\u001b[0m\u001b[0;34m(\u001b[0m\u001b[0;34m)\u001b[0m\u001b[0;34m\u001b[0m\u001b[0;34m\u001b[0m\u001b[0m\n\u001b[0;32m-> 1217\u001b[0;31m         \u001b[0moutputs\u001b[0m \u001b[0;34m=\u001b[0m \u001b[0mself\u001b[0m\u001b[0;34m.\u001b[0m\u001b[0mtrain_function\u001b[0m\u001b[0;34m(\u001b[0m\u001b[0mins\u001b[0m\u001b[0;34m)\u001b[0m\u001b[0;34m\u001b[0m\u001b[0;34m\u001b[0m\u001b[0m\n\u001b[0m\u001b[1;32m   1218\u001b[0m         \u001b[0;32mreturn\u001b[0m \u001b[0munpack_singleton\u001b[0m\u001b[0;34m(\u001b[0m\u001b[0moutputs\u001b[0m\u001b[0;34m)\u001b[0m\u001b[0;34m\u001b[0m\u001b[0;34m\u001b[0m\u001b[0m\n\u001b[1;32m   1219\u001b[0m \u001b[0;34m\u001b[0m\u001b[0m\n",
            "\u001b[0;32m/usr/local/lib/python3.6/dist-packages/keras/backend/tensorflow_backend.py\u001b[0m in \u001b[0;36m__call__\u001b[0;34m(self, inputs)\u001b[0m\n\u001b[1;32m   2713\u001b[0m                 \u001b[0;32mreturn\u001b[0m \u001b[0mself\u001b[0m\u001b[0;34m.\u001b[0m\u001b[0m_legacy_call\u001b[0m\u001b[0;34m(\u001b[0m\u001b[0minputs\u001b[0m\u001b[0;34m)\u001b[0m\u001b[0;34m\u001b[0m\u001b[0;34m\u001b[0m\u001b[0m\n\u001b[1;32m   2714\u001b[0m \u001b[0;34m\u001b[0m\u001b[0m\n\u001b[0;32m-> 2715\u001b[0;31m             \u001b[0;32mreturn\u001b[0m \u001b[0mself\u001b[0m\u001b[0;34m.\u001b[0m\u001b[0m_call\u001b[0m\u001b[0;34m(\u001b[0m\u001b[0minputs\u001b[0m\u001b[0;34m)\u001b[0m\u001b[0;34m\u001b[0m\u001b[0;34m\u001b[0m\u001b[0m\n\u001b[0m\u001b[1;32m   2716\u001b[0m         \u001b[0;32melse\u001b[0m\u001b[0;34m:\u001b[0m\u001b[0;34m\u001b[0m\u001b[0;34m\u001b[0m\u001b[0m\n\u001b[1;32m   2717\u001b[0m             \u001b[0;32mif\u001b[0m \u001b[0mpy_any\u001b[0m\u001b[0;34m(\u001b[0m\u001b[0mis_tensor\u001b[0m\u001b[0;34m(\u001b[0m\u001b[0mx\u001b[0m\u001b[0;34m)\u001b[0m \u001b[0;32mfor\u001b[0m \u001b[0mx\u001b[0m \u001b[0;32min\u001b[0m \u001b[0minputs\u001b[0m\u001b[0;34m)\u001b[0m\u001b[0;34m:\u001b[0m\u001b[0;34m\u001b[0m\u001b[0;34m\u001b[0m\u001b[0m\n",
            "\u001b[0;32m/usr/local/lib/python3.6/dist-packages/keras/backend/tensorflow_backend.py\u001b[0m in \u001b[0;36m_call\u001b[0;34m(self, inputs)\u001b[0m\n\u001b[1;32m   2673\u001b[0m             \u001b[0mfetched\u001b[0m \u001b[0;34m=\u001b[0m \u001b[0mself\u001b[0m\u001b[0;34m.\u001b[0m\u001b[0m_callable_fn\u001b[0m\u001b[0;34m(\u001b[0m\u001b[0;34m*\u001b[0m\u001b[0marray_vals\u001b[0m\u001b[0;34m,\u001b[0m \u001b[0mrun_metadata\u001b[0m\u001b[0;34m=\u001b[0m\u001b[0mself\u001b[0m\u001b[0;34m.\u001b[0m\u001b[0mrun_metadata\u001b[0m\u001b[0;34m)\u001b[0m\u001b[0;34m\u001b[0m\u001b[0;34m\u001b[0m\u001b[0m\n\u001b[1;32m   2674\u001b[0m         \u001b[0;32melse\u001b[0m\u001b[0;34m:\u001b[0m\u001b[0;34m\u001b[0m\u001b[0;34m\u001b[0m\u001b[0m\n\u001b[0;32m-> 2675\u001b[0;31m             \u001b[0mfetched\u001b[0m \u001b[0;34m=\u001b[0m \u001b[0mself\u001b[0m\u001b[0;34m.\u001b[0m\u001b[0m_callable_fn\u001b[0m\u001b[0;34m(\u001b[0m\u001b[0;34m*\u001b[0m\u001b[0marray_vals\u001b[0m\u001b[0;34m)\u001b[0m\u001b[0;34m\u001b[0m\u001b[0;34m\u001b[0m\u001b[0m\n\u001b[0m\u001b[1;32m   2676\u001b[0m         \u001b[0;32mreturn\u001b[0m \u001b[0mfetched\u001b[0m\u001b[0;34m[\u001b[0m\u001b[0;34m:\u001b[0m\u001b[0mlen\u001b[0m\u001b[0;34m(\u001b[0m\u001b[0mself\u001b[0m\u001b[0;34m.\u001b[0m\u001b[0moutputs\u001b[0m\u001b[0;34m)\u001b[0m\u001b[0;34m]\u001b[0m\u001b[0;34m\u001b[0m\u001b[0;34m\u001b[0m\u001b[0m\n\u001b[1;32m   2677\u001b[0m \u001b[0;34m\u001b[0m\u001b[0m\n",
            "\u001b[0;32m/usr/local/lib/python3.6/dist-packages/tensorflow/python/client/session.py\u001b[0m in \u001b[0;36m__call__\u001b[0;34m(self, *args, **kwargs)\u001b[0m\n\u001b[1;32m   1456\u001b[0m         ret = tf_session.TF_SessionRunCallable(self._session._session,\n\u001b[1;32m   1457\u001b[0m                                                \u001b[0mself\u001b[0m\u001b[0;34m.\u001b[0m\u001b[0m_handle\u001b[0m\u001b[0;34m,\u001b[0m \u001b[0margs\u001b[0m\u001b[0;34m,\u001b[0m\u001b[0;34m\u001b[0m\u001b[0;34m\u001b[0m\u001b[0m\n\u001b[0;32m-> 1458\u001b[0;31m                                                run_metadata_ptr)\n\u001b[0m\u001b[1;32m   1459\u001b[0m         \u001b[0;32mif\u001b[0m \u001b[0mrun_metadata\u001b[0m\u001b[0;34m:\u001b[0m\u001b[0;34m\u001b[0m\u001b[0;34m\u001b[0m\u001b[0m\n\u001b[1;32m   1460\u001b[0m           \u001b[0mproto_data\u001b[0m \u001b[0;34m=\u001b[0m \u001b[0mtf_session\u001b[0m\u001b[0;34m.\u001b[0m\u001b[0mTF_GetBuffer\u001b[0m\u001b[0;34m(\u001b[0m\u001b[0mrun_metadata_ptr\u001b[0m\u001b[0;34m)\u001b[0m\u001b[0;34m\u001b[0m\u001b[0;34m\u001b[0m\u001b[0m\n",
            "\u001b[0;31mKeyboardInterrupt\u001b[0m: "
          ]
        }
      ]
    },
    {
      "cell_type": "markdown",
      "metadata": {
        "id": "1ZjIdr8ImYiw",
        "colab_type": "text"
      },
      "source": [
        "## Stats and Plot Graphs"
      ]
    },
    {
      "cell_type": "markdown",
      "metadata": {
        "id": "d2vWUWAI_wKF",
        "colab_type": "text"
      },
      "source": [
        "### One Cycle LR"
      ]
    },
    {
      "cell_type": "code",
      "metadata": {
        "id": "n-ipScVg_u7Y",
        "colab_type": "code",
        "trusted": true,
        "colab": {}
      },
      "source": [
        "import matplotlib.pyplot as plt\n",
        "plt.plot(clr.history['iterations'], clr.history['lr'])\n",
        "plt.xlabel('Training Iterations')\n",
        "plt.ylabel('Learning Rate')\n",
        "plt.title(\"One Cycle Policy\")\n",
        "plt.show()"
      ],
      "execution_count": 0,
      "outputs": []
    },
    {
      "cell_type": "markdown",
      "metadata": {
        "id": "xDF5RvR6_4w8",
        "colab_type": "text"
      },
      "source": [
        "### Cyclic Momentum"
      ]
    },
    {
      "cell_type": "code",
      "metadata": {
        "id": "WJoEb62q_33n",
        "colab_type": "code",
        "trusted": true,
        "colab": {}
      },
      "source": [
        "import matplotlib.pyplot as plt\n",
        "plt.plot(clr.history['iterations'], clr.history['momentum'])\n",
        "plt.xlabel('Training Iterations')\n",
        "plt.ylabel('Momentum')\n",
        "plt.title(\"One Cycle Policy\")\n",
        "plt.show()"
      ],
      "execution_count": 0,
      "outputs": []
    },
    {
      "cell_type": "markdown",
      "metadata": {
        "id": "wjkgPPUg1nrW",
        "colab_type": "text"
      },
      "source": [
        "### Print Confusion matrix "
      ]
    },
    {
      "cell_type": "code",
      "metadata": {
        "id": "1NNTkica268g",
        "colab_type": "code",
        "colab": {}
      },
      "source": [
        "def plot_confusion_matrix(cm, classes,\n",
        "                          normalize=False,\n",
        "                          title='Confusion matrix',\n",
        "                          cmap=plt.cm.Blues):\n",
        "    \"\"\"\n",
        "    This function prints and plots the confusion matrix.\n",
        "    Normalization can be applied by setting `normalize=True`.\n",
        "    \"\"\"\n",
        "    plt.figure(figsize = (5,5))\n",
        "    plt.imshow(cm, interpolation='nearest', cmap=cmap)\n",
        "    plt.title(title)\n",
        "    plt.colorbar()\n",
        "    tick_marks = np.arange(len(classes))\n",
        "    plt.xticks(tick_marks, classes, rotation=90)\n",
        "    plt.yticks(tick_marks, classes)\n",
        "    if normalize:\n",
        "        cm = cm.astype('float') / cm.sum(axis=1)[:, np.newaxis]\n",
        "\n",
        "    thresh = cm.max() / 2.\n",
        "    for i, j in itertools.product(range(cm.shape[0]), range(cm.shape[1])):\n",
        "        plt.text(j, i, cm[i, j],\n",
        "                 horizontalalignment=\"center\",\n",
        "                 color=\"white\" if cm[i, j] > thresh else \"black\")\n",
        "    plt.tight_layout()\n",
        "    plt.ylabel('True label')\n",
        "    plt.xlabel('Predicted label')"
      ],
      "execution_count": 0,
      "outputs": []
    },
    {
      "cell_type": "code",
      "metadata": {
        "id": "YFyUVP2OmbYl",
        "colab_type": "code",
        "trusted": true,
        "colab": {}
      },
      "source": [
        "print('\\n', sklearn.metrics.classification_report(np.where(ytest > 0)[1], np.argmax(Y_pred, axis=1), target_names=list(dict_characters.values())), sep='')    \n",
        "    Y_pred_classes = np.argmax(Y_pred,axis = 1) \n",
        "    Y_true = np.argmax(ytest,axis = 1) \n",
        "    confusion_mtx = confusion_matrix(Y_true, Y_pred_classes) \n",
        "    plot_confusion_matrix(confusion_mtx, classes = list(dict_characters.values())) \n",
        "    plt.show()"
      ],
      "execution_count": 0,
      "outputs": []
    },
    {
      "cell_type": "markdown",
      "metadata": {
        "id": "lpH9-5d91vS_",
        "colab_type": "text"
      },
      "source": [
        "### Learning Curve"
      ]
    },
    {
      "cell_type": "code",
      "metadata": {
        "id": "-99a64YD17wX",
        "colab_type": "code",
        "colab": {}
      },
      "source": [
        "def plotKerasLearningCurve():\n",
        "    plt.figure(figsize=(10,5))\n",
        "    metrics = np.load('logs.npy')[()]\n",
        "    filt = ['acc'] # try to add 'loss' to see the loss learning curve\n",
        "    for k in filter(lambda x : np.any([kk in x for kk in filt]), metrics.keys()):\n",
        "        l = np.array(metrics[k])\n",
        "        plt.plot(l, c= 'r' if 'val' not in k else 'b', label='val' if 'val' in k else 'train')\n",
        "        x = np.argmin(l) if 'loss' in k else np.argmax(l)\n",
        "        y = l[x]\n",
        "        plt.scatter(x,y, lw=0, alpha=0.25, s=100, c='r' if 'val' not in k else 'b')\n",
        "        plt.text(x, y, '{} = {:.4f}'.format(x,y), size='15', color= 'r' if 'val' not in k else 'b')   \n",
        "    plt.legend(loc=4)\n",
        "    plt.axis([0, None, None, None]);\n",
        "    plt.grid()\n",
        "    plt.xlabel('Number of epochs')"
      ],
      "execution_count": 0,
      "outputs": []
    },
    {
      "cell_type": "code",
      "metadata": {
        "id": "LQHr21tz1yld",
        "colab_type": "code",
        "colab": {}
      },
      "source": [
        "plotKerasLearningCurve()\n",
        "plt.show()"
      ],
      "execution_count": 0,
      "outputs": []
    },
    {
      "cell_type": "markdown",
      "metadata": {
        "id": "hQMi49fAVpGt",
        "colab_type": "text"
      },
      "source": [
        "### observation :\n",
        "\n",
        "last best conf : cycle : 5 and base_lr =bestLr//5 best:88 in 30 epochs\n",
        "\n",
        "Round2: \n",
        "\n",
        "1. Latest change : cycle :  20 and base_lr =bestLr//10\n",
        "2. Changed random eraser size and reduce it to .3 from .5\n",
        "3. LR finder is run for 5 epochs now\n",
        "4. Removed most of the hyperparameter from fit()\n",
        "5. \n",
        "\n",
        "\n",
        "\n",
        "\n"
      ]
    }
  ]
}