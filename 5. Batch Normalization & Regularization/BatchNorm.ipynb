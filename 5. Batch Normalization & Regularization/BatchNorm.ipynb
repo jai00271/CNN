{
  "nbformat": 4,
  "nbformat_minor": 0,
  "metadata": {
    "colab": {
      "name": "BatchNorm.ipynb",
      "version": "0.3.2",
      "provenance": [],
      "collapsed_sections": [],
      "toc_visible": true
    },
    "kernelspec": {
      "name": "python3",
      "display_name": "Python 3"
    },
    "accelerator": "GPU"
  },
  "cells": [
    {
      "cell_type": "markdown",
      "metadata": {
        "id": "aNyZv-Ec52ot",
        "colab_type": "text"
      },
      "source": [
        "# **Import Libraries and modules**"
      ]
    },
    {
      "cell_type": "code",
      "metadata": {
        "id": "3m3w1Cw49Zkt",
        "colab_type": "code",
        "colab": {}
      },
      "source": [
        "# https://keras.io/\n",
        "!pip install -q keras\n",
        "import keras"
      ],
      "execution_count": 0,
      "outputs": []
    },
    {
      "cell_type": "markdown",
      "metadata": {
        "id": "-dILEvJnCo8Q",
        "colab_type": "text"
      },
      "source": [
        "# New Section"
      ]
    },
    {
      "cell_type": "code",
      "metadata": {
        "id": "Eso6UHE080D4",
        "colab_type": "code",
        "colab": {}
      },
      "source": [
        "from keras.datasets import mnist\n",
        "from keras.preprocessing.image import ImageDataGenerator\n",
        "\n",
        "import numpy as np\n",
        "\n",
        "from keras.models import Sequential\n",
        "from keras.layers import Dense, Dropout, Activation, Flatten, Add, BatchNormalization\n",
        "from keras.layers import Convolution2D, MaxPooling2D\n",
        "from keras.utils import np_utils\n",
        "\n",
        "from keras.datasets import mnist"
      ],
      "execution_count": 0,
      "outputs": []
    },
    {
      "cell_type": "markdown",
      "metadata": {
        "id": "zByEi95J86RD",
        "colab_type": "text"
      },
      "source": [
        "### Load pre-shuffled MNIST data into train and test sets"
      ]
    },
    {
      "cell_type": "code",
      "metadata": {
        "id": "7eRM0QWN83PV",
        "colab_type": "code",
        "colab": {}
      },
      "source": [
        "(trainX, trainy), (testX, testy) = mnist.load_data()"
      ],
      "execution_count": 0,
      "outputs": []
    },
    {
      "cell_type": "markdown",
      "metadata": {
        "id": "tZe621kNzX9a",
        "colab_type": "text"
      },
      "source": [
        "### reshape dataset to have a single channel"
      ]
    },
    {
      "cell_type": "code",
      "metadata": {
        "id": "dkmprriw9AnZ",
        "colab_type": "code",
        "colab": {
          "base_uri": "https://localhost:8080/",
          "height": 34
        },
        "outputId": "6b923cb6-e509-4fc2-af1f-3f464827e1fb"
      },
      "source": [
        "width, height, channels = trainX.shape[1], trainX.shape[2], 1\n",
        "print(width, height, channels)"
      ],
      "execution_count": 138,
      "outputs": [
        {
          "output_type": "stream",
          "text": [
            "28 28 1\n"
          ],
          "name": "stdout"
        }
      ]
    },
    {
      "cell_type": "code",
      "metadata": {
        "id": "CrnvfqKEx6Dm",
        "colab_type": "code",
        "colab": {}
      },
      "source": [
        "trainX = trainX.reshape((trainX.shape[0], width, height, channels))\n",
        "testX = testX.reshape((testX.shape[0], width, height, channels))"
      ],
      "execution_count": 0,
      "outputs": []
    },
    {
      "cell_type": "markdown",
      "metadata": {
        "id": "_XB_4A8b3Quw",
        "colab_type": "text"
      },
      "source": [
        "\n",
        "### Convert 1-dimensional class arrays to 10-dimensional class matrices\n"
      ]
    },
    {
      "cell_type": "code",
      "metadata": {
        "id": "SolM46jo3Q7q",
        "colab_type": "code",
        "colab": {}
      },
      "source": [
        "trainy = np_utils.to_categorical(trainy, 10)\n",
        "testy = np_utils.to_categorical(testy, 10)"
      ],
      "execution_count": 0,
      "outputs": []
    },
    {
      "cell_type": "markdown",
      "metadata": {
        "id": "yzhGo2hNCRmR",
        "colab_type": "text"
      },
      "source": [
        "### report pixel means and standard deviations"
      ]
    },
    {
      "cell_type": "code",
      "metadata": {
        "id": "utbJFZOkzlJj",
        "colab_type": "code",
        "outputId": "9f2a677f-e447-4f9a-a1d6-bb77d0d7c780",
        "colab": {
          "base_uri": "https://localhost:8080/",
          "height": 34
        }
      },
      "source": [
        "print('Statistics train=%.3f (%.3f), test=%.3f (%.3f)' % (trainX.mean(), trainX.std(), testX.mean(), testX.std()))"
      ],
      "execution_count": 141,
      "outputs": [
        {
          "output_type": "stream",
          "text": [
            "Statistics train=33.318 (78.567), test=33.791 (79.172)\n"
          ],
          "name": "stdout"
        }
      ]
    },
    {
      "cell_type": "markdown",
      "metadata": {
        "id": "fM_jwjCPzndZ",
        "colab_type": "text"
      },
      "source": [
        "### create generator that centers pixel values"
      ]
    },
    {
      "cell_type": "code",
      "metadata": {
        "id": "V-CLOm8uzohs",
        "colab_type": "code",
        "colab": {
          "base_uri": "https://localhost:8080/",
          "height": 34
        },
        "outputId": "1a48627a-5e50-483a-e6ab-3aa21b91c5fa"
      },
      "source": [
        "datagen = ImageDataGenerator(featurewise_center=True, featurewise_std_normalization=True)\n",
        "datagen"
      ],
      "execution_count": 142,
      "outputs": [
        {
          "output_type": "execute_result",
          "data": {
            "text/plain": [
              "<keras.preprocessing.image.ImageDataGenerator at 0x7f4fd60aa128>"
            ]
          },
          "metadata": {
            "tags": []
          },
          "execution_count": 142
        }
      ]
    },
    {
      "cell_type": "markdown",
      "metadata": {
        "id": "m_ItlO1PzqBj",
        "colab_type": "text"
      },
      "source": [
        "### calculate the mean on the training dataset"
      ]
    },
    {
      "cell_type": "code",
      "metadata": {
        "id": "QYXDdhhxzsRj",
        "colab_type": "code",
        "outputId": "6a19efae-cb24-4dfb-a248-b0f73dab79ea",
        "colab": {
          "base_uri": "https://localhost:8080/",
          "height": 34
        }
      },
      "source": [
        "datagen.fit(trainX)\n",
        "print('Data Generator mean=%.3f, std=%.3f' % (datagen.mean, datagen.std))"
      ],
      "execution_count": 143,
      "outputs": [
        {
          "output_type": "stream",
          "text": [
            "Data Generator mean=33.318, std=78.567\n"
          ],
          "name": "stdout"
        }
      ]
    },
    {
      "cell_type": "markdown",
      "metadata": {
        "id": "hUQTxIQ3zvN5",
        "colab_type": "text"
      },
      "source": [
        "### demonstrate effect on a single batch of samples"
      ]
    },
    {
      "cell_type": "code",
      "metadata": {
        "id": "KLCsmXOAzxTi",
        "colab_type": "code",
        "colab": {
          "base_uri": "https://localhost:8080/",
          "height": 34
        },
        "outputId": "0b6b3dee-8c92-452a-bf76-5a1f09cd2ca7"
      },
      "source": [
        "iterator = datagen.flow(trainX, trainy, batch_size=64)\n",
        "iterator"
      ],
      "execution_count": 144,
      "outputs": [
        {
          "output_type": "execute_result",
          "data": {
            "text/plain": [
              "<keras_preprocessing.image.numpy_array_iterator.NumpyArrayIterator at 0x7f4fd60aab38>"
            ]
          },
          "metadata": {
            "tags": []
          },
          "execution_count": 144
        }
      ]
    },
    {
      "cell_type": "markdown",
      "metadata": {
        "id": "643dGJS0zyyy",
        "colab_type": "text"
      },
      "source": [
        "### get a batch"
      ]
    },
    {
      "cell_type": "code",
      "metadata": {
        "id": "xUnm92eTz0E5",
        "colab_type": "code",
        "colab": {}
      },
      "source": [
        "batchX, batchy = iterator.next()"
      ],
      "execution_count": 0,
      "outputs": []
    },
    {
      "cell_type": "markdown",
      "metadata": {
        "id": "JUxb_Vzhz2Rp",
        "colab_type": "text"
      },
      "source": [
        "### pixel stats in the batch"
      ]
    },
    {
      "cell_type": "code",
      "metadata": {
        "id": "WCNTt0Jzz1cy",
        "colab_type": "code",
        "outputId": "609fc5da-cd11-48aa-89cb-0d62d8e70d0c",
        "colab": {
          "base_uri": "https://localhost:8080/",
          "height": 34
        }
      },
      "source": [
        "print(batchX.shape, batchX.mean(), batchX.std())"
      ],
      "execution_count": 146,
      "outputs": [
        {
          "output_type": "stream",
          "text": [
            "(64, 28, 28, 1) 0.018264811 1.0211288\n"
          ],
          "name": "stdout"
        }
      ]
    },
    {
      "cell_type": "markdown",
      "metadata": {
        "id": "25L8irx7z67U",
        "colab_type": "text"
      },
      "source": [
        "### demonstrate effect on entire training dataset"
      ]
    },
    {
      "cell_type": "code",
      "metadata": {
        "id": "DrV86QW1z8_p",
        "colab_type": "code",
        "colab": {
          "base_uri": "https://localhost:8080/",
          "height": 34
        },
        "outputId": "da63ed52-805f-4e23-ee89-c3129f0b3dc2"
      },
      "source": [
        "iterator = datagen.flow(trainX, trainy, batch_size=len(trainX), shuffle=False)\n",
        "iterator"
      ],
      "execution_count": 147,
      "outputs": [
        {
          "output_type": "execute_result",
          "data": {
            "text/plain": [
              "<keras_preprocessing.image.numpy_array_iterator.NumpyArrayIterator at 0x7f4fd60aa898>"
            ]
          },
          "metadata": {
            "tags": []
          },
          "execution_count": 147
        }
      ]
    },
    {
      "cell_type": "code",
      "metadata": {
        "id": "K-nrLWXQE91y",
        "colab_type": "code",
        "colab": {}
      },
      "source": [
        "from keras.layers import Activation\n",
        "from keras.layers import LeakyReLU\n",
        "from keras.regularizers import l2\n",
        "\n",
        "model = Sequential()\n",
        "# Extract edges and gradients features\n",
        "model.add(Convolution2D(16, (3, 3), kernel_regularizer=l2(0.01), bias_regularizer=l2(0.01), activation='relu', input_shape=(28,28,1))) #26\n",
        "model.add(BatchNormalization())\n",
        "model.add(Dropout(0.1))\n",
        "\n",
        "# Trying to extract more features by increasing channels \n",
        "model.add(Convolution2D(16, (3, 3),  kernel_regularizer=l2(0.01), bias_regularizer=l2(0.01),activation='relu')) #24\n",
        "model.add(BatchNormalization())\n",
        "model.add(Dropout(0.1))\n",
        "\n",
        "# Trying to extract more features by increasing channels \n",
        "model.add(Convolution2D(16, (3, 3), kernel_regularizer=l2(0.01), bias_regularizer=l2(0.01), activation='relu')) #22\n",
        "\n",
        "# reducing the size of parameters\n",
        "model.add(MaxPooling2D(pool_size=(2, 2))) #11\n",
        "\n",
        "# Since we have done  MP above we should try using 1x1 and fetch co dependend features.\n",
        "model.add(Convolution2D(16, (1, 1), kernel_regularizer=l2(0.01), bias_regularizer=l2(0.01), activation='relu')) #11\n",
        "model.add(BatchNormalization())\n",
        "model.add(Dropout(0.1))\n",
        "\n",
        "# Trying to Increase the channels to fetch parts of object\n",
        "model.add(Convolution2D(16, (3, 3), kernel_regularizer=l2(0.01), bias_regularizer=l2(0.01), activation='relu')) #9\n",
        "model.add(BatchNormalization())\n",
        "model.add(Dropout(0.1))\n",
        "\n",
        "model.add(Convolution2D(16, (3, 3), kernel_regularizer=l2(0.01), bias_regularizer=l2(0.01), activation='relu')) #7\n",
        "model.add(BatchNormalization())\n",
        "model.add(Dropout(0.1))\n",
        "\n",
        "model.add(Convolution2D(16, (3, 3), kernel_regularizer=l2(0.01), bias_regularizer=l2(0.01), activation='relu')) #5\n",
        "model.add(BatchNormalization())\n",
        "model.add(Dropout(0.1))\n",
        "\n",
        "model.add(Convolution2D(16, (3,3), kernel_regularizer=l2(0.01), bias_regularizer=l2(0.01))) #3\n",
        "model.add(BatchNormalization())\n",
        "model.add(Dropout(0.1))\n",
        "\n",
        "model.add(Convolution2D(10, (3,3))) \n",
        "\n",
        "model.add(Flatten())\n",
        "model.add(Activation('softmax'))"
      ],
      "execution_count": 0,
      "outputs": []
    },
    {
      "cell_type": "code",
      "metadata": {
        "id": "TzdAYg1k9K7Z",
        "colab_type": "code",
        "outputId": "51ef23d8-a722-4608-9af2-a63d5acaaf6b",
        "colab": {
          "base_uri": "https://localhost:8080/",
          "height": 1020
        }
      },
      "source": [
        "model.summary()"
      ],
      "execution_count": 149,
      "outputs": [
        {
          "output_type": "stream",
          "text": [
            "_________________________________________________________________\n",
            "Layer (type)                 Output Shape              Param #   \n",
            "=================================================================\n",
            "conv2d_82 (Conv2D)           (None, 26, 26, 16)        160       \n",
            "_________________________________________________________________\n",
            "batch_normalization_64 (Batc (None, 26, 26, 16)        64        \n",
            "_________________________________________________________________\n",
            "dropout_64 (Dropout)         (None, 26, 26, 16)        0         \n",
            "_________________________________________________________________\n",
            "conv2d_83 (Conv2D)           (None, 24, 24, 16)        2320      \n",
            "_________________________________________________________________\n",
            "batch_normalization_65 (Batc (None, 24, 24, 16)        64        \n",
            "_________________________________________________________________\n",
            "dropout_65 (Dropout)         (None, 24, 24, 16)        0         \n",
            "_________________________________________________________________\n",
            "conv2d_84 (Conv2D)           (None, 22, 22, 16)        2320      \n",
            "_________________________________________________________________\n",
            "max_pooling2d_10 (MaxPooling (None, 11, 11, 16)        0         \n",
            "_________________________________________________________________\n",
            "conv2d_85 (Conv2D)           (None, 11, 11, 16)        272       \n",
            "_________________________________________________________________\n",
            "batch_normalization_66 (Batc (None, 11, 11, 16)        64        \n",
            "_________________________________________________________________\n",
            "dropout_66 (Dropout)         (None, 11, 11, 16)        0         \n",
            "_________________________________________________________________\n",
            "conv2d_86 (Conv2D)           (None, 9, 9, 16)          2320      \n",
            "_________________________________________________________________\n",
            "batch_normalization_67 (Batc (None, 9, 9, 16)          64        \n",
            "_________________________________________________________________\n",
            "dropout_67 (Dropout)         (None, 9, 9, 16)          0         \n",
            "_________________________________________________________________\n",
            "conv2d_87 (Conv2D)           (None, 7, 7, 16)          2320      \n",
            "_________________________________________________________________\n",
            "batch_normalization_68 (Batc (None, 7, 7, 16)          64        \n",
            "_________________________________________________________________\n",
            "dropout_68 (Dropout)         (None, 7, 7, 16)          0         \n",
            "_________________________________________________________________\n",
            "conv2d_88 (Conv2D)           (None, 5, 5, 16)          2320      \n",
            "_________________________________________________________________\n",
            "batch_normalization_69 (Batc (None, 5, 5, 16)          64        \n",
            "_________________________________________________________________\n",
            "dropout_69 (Dropout)         (None, 5, 5, 16)          0         \n",
            "_________________________________________________________________\n",
            "conv2d_89 (Conv2D)           (None, 3, 3, 16)          2320      \n",
            "_________________________________________________________________\n",
            "batch_normalization_70 (Batc (None, 3, 3, 16)          64        \n",
            "_________________________________________________________________\n",
            "dropout_70 (Dropout)         (None, 3, 3, 16)          0         \n",
            "_________________________________________________________________\n",
            "conv2d_90 (Conv2D)           (None, 1, 1, 10)          1450      \n",
            "_________________________________________________________________\n",
            "flatten_10 (Flatten)         (None, 10)                0         \n",
            "_________________________________________________________________\n",
            "activation_10 (Activation)   (None, 10)                0         \n",
            "=================================================================\n",
            "Total params: 16,250\n",
            "Trainable params: 16,026\n",
            "Non-trainable params: 224\n",
            "_________________________________________________________________\n"
          ],
          "name": "stdout"
        }
      ]
    },
    {
      "cell_type": "markdown",
      "metadata": {
        "id": "LHiUfCicFon6",
        "colab_type": "text"
      },
      "source": [
        "### Train the model"
      ]
    },
    {
      "cell_type": "code",
      "metadata": {
        "id": "4xWoKhPY9Of5",
        "colab_type": "code",
        "outputId": "dcd7cfa1-088c-42bf-ef77-9acc928c54d6",
        "colab": {
          "base_uri": "https://localhost:8080/",
          "height": 4131
        }
      },
      "source": [
        "from keras.optimizers import Adam\n",
        "from keras.callbacks import LearningRateScheduler\n",
        "from keras.optimizers import SGD\n",
        "from keras.callbacks import ModelCheckpoint\n",
        "\n",
        "def scheduler(epoch, lr):\n",
        "  return round(0.003 * 1/(1 + 0.319 * epoch), 10)\n",
        "\n",
        "model.compile(loss='categorical_crossentropy', optimizer=Adam(lr=0.003), metrics=['accuracy'])\n",
        "\n",
        "# checkpoint\n",
        "\n",
        "filepath=\"weights.best\"\n",
        "\n",
        "reduce_LR = LearningRateScheduler(scheduler, verbose=1)\n",
        "checkpoint = ModelCheckpoint(filepath, monitor='val_acc', verbose=1, save_best_only=True, mode='max')\n",
        "\n",
        "#callbacks_list = [reduce_LR, checkpoint]\n",
        "\n",
        "model.fit(trainX, trainy, batch_size=128, epochs=40, verbose=1, validation_data=(testX, testy), callbacks=[reduce_LR, checkpoint])"
      ],
      "execution_count": 150,
      "outputs": [
        {
          "output_type": "stream",
          "text": [
            "Train on 60000 samples, validate on 10000 samples\n",
            "Epoch 1/40\n",
            "\n",
            "Epoch 00001: LearningRateScheduler setting learning rate to 0.003.\n",
            "60000/60000 [==============================] - 13s 216us/step - loss: 0.6817 - acc: 0.9276 - val_loss: 1.0492 - val_acc: 0.7290\n",
            "\n",
            "Epoch 00001: val_acc improved from -inf to 0.72900, saving model to weights.best\n",
            "Epoch 2/40\n",
            "\n",
            "Epoch 00002: LearningRateScheduler setting learning rate to 0.0022744503.\n",
            "60000/60000 [==============================] - 8s 128us/step - loss: 0.1973 - acc: 0.9712 - val_loss: 0.1992 - val_acc: 0.9658\n",
            "\n",
            "Epoch 00002: val_acc improved from 0.72900 to 0.96580, saving model to weights.best\n",
            "Epoch 3/40\n",
            "\n",
            "Epoch 00003: LearningRateScheduler setting learning rate to 0.0018315018.\n",
            "60000/60000 [==============================] - 8s 133us/step - loss: 0.1586 - acc: 0.9760 - val_loss: 0.1518 - val_acc: 0.9740\n",
            "\n",
            "Epoch 00003: val_acc improved from 0.96580 to 0.97400, saving model to weights.best\n",
            "Epoch 4/40\n",
            "\n",
            "Epoch 00004: LearningRateScheduler setting learning rate to 0.0015329586.\n",
            "60000/60000 [==============================] - 8s 139us/step - loss: 0.1388 - acc: 0.9779 - val_loss: 0.1146 - val_acc: 0.9848\n",
            "\n",
            "Epoch 00004: val_acc improved from 0.97400 to 0.98480, saving model to weights.best\n",
            "Epoch 5/40\n",
            "\n",
            "Epoch 00005: LearningRateScheduler setting learning rate to 0.0013181019.\n",
            "60000/60000 [==============================] - 8s 127us/step - loss: 0.1270 - acc: 0.9791 - val_loss: 0.0990 - val_acc: 0.9868\n",
            "\n",
            "Epoch 00005: val_acc improved from 0.98480 to 0.98680, saving model to weights.best\n",
            "Epoch 6/40\n",
            "\n",
            "Epoch 00006: LearningRateScheduler setting learning rate to 0.0011560694.\n",
            "60000/60000 [==============================] - 8s 127us/step - loss: 0.1167 - acc: 0.9809 - val_loss: 0.1252 - val_acc: 0.9772\n",
            "\n",
            "Epoch 00006: val_acc did not improve from 0.98680\n",
            "Epoch 7/40\n",
            "\n",
            "Epoch 00007: LearningRateScheduler setting learning rate to 0.0010295127.\n",
            "60000/60000 [==============================] - 8s 127us/step - loss: 0.1098 - acc: 0.9818 - val_loss: 0.1033 - val_acc: 0.9831\n",
            "\n",
            "Epoch 00007: val_acc did not improve from 0.98680\n",
            "Epoch 8/40\n",
            "\n",
            "Epoch 00008: LearningRateScheduler setting learning rate to 0.0009279307.\n",
            "60000/60000 [==============================] - 8s 127us/step - loss: 0.1017 - acc: 0.9828 - val_loss: 0.0903 - val_acc: 0.9844\n",
            "\n",
            "Epoch 00008: val_acc did not improve from 0.98680\n",
            "Epoch 9/40\n",
            "\n",
            "Epoch 00009: LearningRateScheduler setting learning rate to 0.0008445946.\n",
            "60000/60000 [==============================] - 8s 127us/step - loss: 0.0969 - acc: 0.9834 - val_loss: 0.1027 - val_acc: 0.9797\n",
            "\n",
            "Epoch 00009: val_acc did not improve from 0.98680\n",
            "Epoch 10/40\n",
            "\n",
            "Epoch 00010: LearningRateScheduler setting learning rate to 0.0007749935.\n",
            "60000/60000 [==============================] - 8s 128us/step - loss: 0.0931 - acc: 0.9839 - val_loss: 0.0801 - val_acc: 0.9875\n",
            "\n",
            "Epoch 00010: val_acc improved from 0.98680 to 0.98750, saving model to weights.best\n",
            "Epoch 11/40\n",
            "\n",
            "Epoch 00011: LearningRateScheduler setting learning rate to 0.0007159905.\n",
            "60000/60000 [==============================] - 8s 127us/step - loss: 0.0879 - acc: 0.9853 - val_loss: 0.0861 - val_acc: 0.9852\n",
            "\n",
            "Epoch 00011: val_acc did not improve from 0.98750\n",
            "Epoch 12/40\n",
            "\n",
            "Epoch 00012: LearningRateScheduler setting learning rate to 0.000665336.\n",
            "60000/60000 [==============================] - 8s 128us/step - loss: 0.0847 - acc: 0.9853 - val_loss: 0.0741 - val_acc: 0.9885\n",
            "\n",
            "Epoch 00012: val_acc improved from 0.98750 to 0.98850, saving model to weights.best\n",
            "Epoch 13/40\n",
            "\n",
            "Epoch 00013: LearningRateScheduler setting learning rate to 0.0006213753.\n",
            "60000/60000 [==============================] - 8s 128us/step - loss: 0.0804 - acc: 0.9861 - val_loss: 0.0761 - val_acc: 0.9884\n",
            "\n",
            "Epoch 00013: val_acc did not improve from 0.98850\n",
            "Epoch 14/40\n",
            "\n",
            "Epoch 00014: LearningRateScheduler setting learning rate to 0.0005828638.\n",
            "60000/60000 [==============================] - 9s 142us/step - loss: 0.0771 - acc: 0.9868 - val_loss: 0.0935 - val_acc: 0.9823\n",
            "\n",
            "Epoch 00014: val_acc did not improve from 0.98850\n",
            "Epoch 15/40\n",
            "\n",
            "Epoch 00015: LearningRateScheduler setting learning rate to 0.0005488474.\n",
            "60000/60000 [==============================] - 9s 145us/step - loss: 0.0747 - acc: 0.9869 - val_loss: 0.0635 - val_acc: 0.9896\n",
            "\n",
            "Epoch 00015: val_acc improved from 0.98850 to 0.98960, saving model to weights.best\n",
            "Epoch 16/40\n",
            "\n",
            "Epoch 00016: LearningRateScheduler setting learning rate to 0.0005185825.\n",
            "60000/60000 [==============================] - 8s 132us/step - loss: 0.0729 - acc: 0.9871 - val_loss: 0.0607 - val_acc: 0.9908\n",
            "\n",
            "Epoch 00016: val_acc improved from 0.98960 to 0.99080, saving model to weights.best\n",
            "Epoch 17/40\n",
            "\n",
            "Epoch 00017: LearningRateScheduler setting learning rate to 0.000491481.\n",
            "60000/60000 [==============================] - 8s 127us/step - loss: 0.0708 - acc: 0.9875 - val_loss: 0.0599 - val_acc: 0.9901\n",
            "\n",
            "Epoch 00017: val_acc did not improve from 0.99080\n",
            "Epoch 18/40\n",
            "\n",
            "Epoch 00018: LearningRateScheduler setting learning rate to 0.0004670715.\n",
            "60000/60000 [==============================] - 8s 127us/step - loss: 0.0697 - acc: 0.9873 - val_loss: 0.0671 - val_acc: 0.9883\n",
            "\n",
            "Epoch 00018: val_acc did not improve from 0.99080\n",
            "Epoch 19/40\n",
            "\n",
            "Epoch 00019: LearningRateScheduler setting learning rate to 0.0004449718.\n",
            "60000/60000 [==============================] - 8s 127us/step - loss: 0.0660 - acc: 0.9889 - val_loss: 0.0614 - val_acc: 0.9892\n",
            "\n",
            "Epoch 00019: val_acc did not improve from 0.99080\n",
            "Epoch 20/40\n",
            "\n",
            "Epoch 00020: LearningRateScheduler setting learning rate to 0.000424869.\n",
            "60000/60000 [==============================] - 8s 127us/step - loss: 0.0637 - acc: 0.9883 - val_loss: 0.0557 - val_acc: 0.9908\n",
            "\n",
            "Epoch 00020: val_acc did not improve from 0.99080\n",
            "Epoch 21/40\n",
            "\n",
            "Epoch 00021: LearningRateScheduler setting learning rate to 0.0004065041.\n",
            "60000/60000 [==============================] - 8s 126us/step - loss: 0.0638 - acc: 0.9882 - val_loss: 0.0586 - val_acc: 0.9893\n",
            "\n",
            "Epoch 00021: val_acc did not improve from 0.99080\n",
            "Epoch 22/40\n",
            "\n",
            "Epoch 00022: LearningRateScheduler setting learning rate to 0.000389661.\n",
            "60000/60000 [==============================] - 8s 127us/step - loss: 0.0605 - acc: 0.9892 - val_loss: 0.0549 - val_acc: 0.9909\n",
            "\n",
            "Epoch 00022: val_acc improved from 0.99080 to 0.99090, saving model to weights.best\n",
            "Epoch 23/40\n",
            "\n",
            "Epoch 00023: LearningRateScheduler setting learning rate to 0.0003741581.\n",
            "60000/60000 [==============================] - 8s 127us/step - loss: 0.0590 - acc: 0.9896 - val_loss: 0.0581 - val_acc: 0.9901\n",
            "\n",
            "Epoch 00023: val_acc did not improve from 0.99090\n",
            "Epoch 24/40\n",
            "\n",
            "Epoch 00024: LearningRateScheduler setting learning rate to 0.0003598417.\n",
            "60000/60000 [==============================] - 8s 139us/step - loss: 0.0601 - acc: 0.9891 - val_loss: 0.0538 - val_acc: 0.9914\n",
            "\n",
            "Epoch 00024: val_acc improved from 0.99090 to 0.99140, saving model to weights.best\n",
            "Epoch 25/40\n",
            "\n",
            "Epoch 00025: LearningRateScheduler setting learning rate to 0.0003465804.\n",
            "60000/60000 [==============================] - 8s 132us/step - loss: 0.0566 - acc: 0.9898 - val_loss: 0.0590 - val_acc: 0.9889\n",
            "\n",
            "Epoch 00025: val_acc did not improve from 0.99140\n",
            "Epoch 26/40\n",
            "\n",
            "Epoch 00026: LearningRateScheduler setting learning rate to 0.0003342618.\n",
            "60000/60000 [==============================] - 8s 127us/step - loss: 0.0548 - acc: 0.9904 - val_loss: 0.0508 - val_acc: 0.9920\n",
            "\n",
            "Epoch 00026: val_acc improved from 0.99140 to 0.99200, saving model to weights.best\n",
            "Epoch 27/40\n",
            "\n",
            "Epoch 00027: LearningRateScheduler setting learning rate to 0.0003227889.\n",
            "60000/60000 [==============================] - 8s 128us/step - loss: 0.0556 - acc: 0.9896 - val_loss: 0.0508 - val_acc: 0.9909\n",
            "\n",
            "Epoch 00027: val_acc did not improve from 0.99200\n",
            "Epoch 28/40\n",
            "\n",
            "Epoch 00028: LearningRateScheduler setting learning rate to 0.0003120774.\n",
            "60000/60000 [==============================] - 8s 127us/step - loss: 0.0541 - acc: 0.9901 - val_loss: 0.0463 - val_acc: 0.9923\n",
            "\n",
            "Epoch 00028: val_acc improved from 0.99200 to 0.99230, saving model to weights.best\n",
            "Epoch 29/40\n",
            "\n",
            "Epoch 00029: LearningRateScheduler setting learning rate to 0.000302054.\n",
            "60000/60000 [==============================] - 8s 127us/step - loss: 0.0513 - acc: 0.9912 - val_loss: 0.0539 - val_acc: 0.9906\n",
            "\n",
            "Epoch 00029: val_acc did not improve from 0.99230\n",
            "Epoch 30/40\n",
            "\n",
            "Epoch 00030: LearningRateScheduler setting learning rate to 0.0002926544.\n",
            "60000/60000 [==============================] - 8s 130us/step - loss: 0.0510 - acc: 0.9907 - val_loss: 0.0505 - val_acc: 0.9909\n",
            "\n",
            "Epoch 00030: val_acc did not improve from 0.99230\n",
            "Epoch 31/40\n",
            "\n",
            "Epoch 00031: LearningRateScheduler setting learning rate to 0.0002838221.\n",
            "60000/60000 [==============================] - 8s 134us/step - loss: 0.0505 - acc: 0.9911 - val_loss: 0.0445 - val_acc: 0.9933\n",
            "\n",
            "Epoch 00031: val_acc improved from 0.99230 to 0.99330, saving model to weights.best\n",
            "Epoch 32/40\n",
            "\n",
            "Epoch 00032: LearningRateScheduler setting learning rate to 0.0002755074.\n",
            "60000/60000 [==============================] - 8s 127us/step - loss: 0.0492 - acc: 0.9910 - val_loss: 0.0464 - val_acc: 0.9930\n",
            "\n",
            "Epoch 00032: val_acc did not improve from 0.99330\n",
            "Epoch 33/40\n",
            "\n",
            "Epoch 00033: LearningRateScheduler setting learning rate to 0.000267666.\n",
            "60000/60000 [==============================] - 8s 127us/step - loss: 0.0482 - acc: 0.9913 - val_loss: 0.0401 - val_acc: 0.9933\n",
            "\n",
            "Epoch 00033: val_acc did not improve from 0.99330\n",
            "Epoch 34/40\n",
            "\n",
            "Epoch 00034: LearningRateScheduler setting learning rate to 0.0002602585.\n",
            "60000/60000 [==============================] - 8s 135us/step - loss: 0.0468 - acc: 0.9913 - val_loss: 0.0482 - val_acc: 0.9919\n",
            "\n",
            "Epoch 00034: val_acc did not improve from 0.99330\n",
            "Epoch 35/40\n",
            "\n",
            "Epoch 00035: LearningRateScheduler setting learning rate to 0.00025325.\n",
            "60000/60000 [==============================] - 8s 137us/step - loss: 0.0483 - acc: 0.9909 - val_loss: 0.0502 - val_acc: 0.9911\n",
            "\n",
            "Epoch 00035: val_acc did not improve from 0.99330\n",
            "Epoch 36/40\n",
            "\n",
            "Epoch 00036: LearningRateScheduler setting learning rate to 0.0002466091.\n",
            "60000/60000 [==============================] - 8s 127us/step - loss: 0.0467 - acc: 0.9916 - val_loss: 0.0403 - val_acc: 0.9940\n",
            "\n",
            "Epoch 00036: val_acc improved from 0.99330 to 0.99400, saving model to weights.best\n",
            "Epoch 37/40\n",
            "\n",
            "Epoch 00037: LearningRateScheduler setting learning rate to 0.0002403076.\n",
            "60000/60000 [==============================] - 8s 127us/step - loss: 0.0476 - acc: 0.9909 - val_loss: 0.0428 - val_acc: 0.9925\n",
            "\n",
            "Epoch 00037: val_acc did not improve from 0.99400\n",
            "Epoch 38/40\n",
            "\n",
            "Epoch 00038: LearningRateScheduler setting learning rate to 0.0002343201.\n",
            "60000/60000 [==============================] - 8s 127us/step - loss: 0.0461 - acc: 0.9914 - val_loss: 0.0432 - val_acc: 0.9921\n",
            "\n",
            "Epoch 00038: val_acc did not improve from 0.99400\n",
            "Epoch 39/40\n",
            "\n",
            "Epoch 00039: LearningRateScheduler setting learning rate to 0.0002286237.\n",
            "60000/60000 [==============================] - 8s 127us/step - loss: 0.0436 - acc: 0.9920 - val_loss: 0.0417 - val_acc: 0.9931\n",
            "\n",
            "Epoch 00039: val_acc did not improve from 0.99400\n",
            "Epoch 40/40\n",
            "\n",
            "Epoch 00040: LearningRateScheduler setting learning rate to 0.0002231977.\n",
            "60000/60000 [==============================] - 8s 126us/step - loss: 0.0445 - acc: 0.9914 - val_loss: 0.0410 - val_acc: 0.9926\n",
            "\n",
            "Epoch 00040: val_acc did not improve from 0.99400\n"
          ],
          "name": "stdout"
        },
        {
          "output_type": "execute_result",
          "data": {
            "text/plain": [
              "<keras.callbacks.History at 0x7f4fd564c0b8>"
            ]
          },
          "metadata": {
            "tags": []
          },
          "execution_count": 150
        }
      ]
    },
    {
      "cell_type": "code",
      "metadata": {
        "id": "AtsH-lLk-eLb",
        "colab_type": "code",
        "colab": {}
      },
      "source": [
        "score = model.evaluate(testX, testy, verbose=0)"
      ],
      "execution_count": 0,
      "outputs": []
    },
    {
      "cell_type": "code",
      "metadata": {
        "id": "mkX8JMv79q9r",
        "colab_type": "code",
        "colab": {
          "base_uri": "https://localhost:8080/",
          "height": 34
        },
        "outputId": "7370929d-e41e-4d75-9be9-345ca1ecca9d"
      },
      "source": [
        "print(score)"
      ],
      "execution_count": 153,
      "outputs": [
        {
          "output_type": "stream",
          "text": [
            "[0.04103585731089115, 0.9926]\n"
          ],
          "name": "stdout"
        }
      ]
    },
    {
      "cell_type": "code",
      "metadata": {
        "id": "OCWoJkwE9suh",
        "colab_type": "code",
        "colab": {}
      },
      "source": [
        "y_pred = model.predict(testX)"
      ],
      "execution_count": 0,
      "outputs": []
    },
    {
      "cell_type": "code",
      "metadata": {
        "id": "Ym7iCFBm9uBs",
        "colab_type": "code",
        "colab": {
          "base_uri": "https://localhost:8080/",
          "height": 629
        },
        "outputId": "9d2835d9-d193-4564-cf03-d2840e739ae6"
      },
      "source": [
        "print(y_pred[:9])\n",
        "print(testy[:9])"
      ],
      "execution_count": 159,
      "outputs": [
        {
          "output_type": "stream",
          "text": [
            "[[9.70721142e-11 9.77623049e-09 6.18370777e-08 3.67111959e-08\n",
            "  9.80770951e-11 1.69185344e-09 1.86023994e-13 9.99999881e-01\n",
            "  7.49161497e-11 3.54653551e-09]\n",
            " [1.91506842e-06 5.96634777e-07 9.99994278e-01 4.80320628e-09\n",
            "  6.19780061e-10 1.55935646e-11 2.43169529e-06 1.07593079e-09\n",
            "  8.71630732e-07 2.78305747e-11]\n",
            " [4.71223203e-08 9.99998689e-01 7.80648577e-08 6.76944834e-10\n",
            "  6.24172628e-07 7.91779726e-08 2.78313365e-07 1.86276779e-07\n",
            "  1.13499175e-08 1.24552435e-09]\n",
            " [9.99869108e-01 5.34586986e-10 2.35874893e-07 1.65215326e-08\n",
            "  1.26934259e-08 2.24008716e-07 1.27307067e-04 2.19954788e-09\n",
            "  1.31306376e-06 1.73719445e-06]\n",
            " [1.55943019e-11 7.76717535e-09 2.76180415e-11 6.46316542e-11\n",
            "  9.99984384e-01 1.69378378e-09 1.24674959e-09 8.58622062e-09\n",
            "  2.97461722e-09 1.56205169e-05]\n",
            " [2.35773339e-08 9.99998689e-01 9.10736944e-08 3.12047249e-10\n",
            "  5.55940517e-07 2.73868821e-08 6.65716087e-08 5.73763089e-07\n",
            "  7.02585012e-09 2.04527084e-09]\n",
            " [7.58167806e-10 2.01829625e-05 2.21290364e-08 5.64205405e-10\n",
            "  9.99891281e-01 1.24023259e-07 1.29753297e-09 1.69551481e-06\n",
            "  2.31190234e-06 8.43243179e-05]\n",
            " [4.61265245e-07 6.26055430e-09 8.71068210e-07 4.10787550e-07\n",
            "  5.53931823e-05 1.94534039e-07 3.61377883e-09 8.33907961e-07\n",
            "  1.52679459e-05 9.99926567e-01]\n",
            " [9.87888779e-06 1.42999440e-07 1.51318389e-07 3.40550309e-06\n",
            "  3.14632409e-08 4.08236414e-01 5.91388941e-01 1.16710019e-08\n",
            "  3.57597542e-04 3.36822654e-06]]\n",
            "[[0. 0. 0. 0. 0. 0. 0. 1. 0. 0.]\n",
            " [0. 0. 1. 0. 0. 0. 0. 0. 0. 0.]\n",
            " [0. 1. 0. 0. 0. 0. 0. 0. 0. 0.]\n",
            " [1. 0. 0. 0. 0. 0. 0. 0. 0. 0.]\n",
            " [0. 0. 0. 0. 1. 0. 0. 0. 0. 0.]\n",
            " [0. 1. 0. 0. 0. 0. 0. 0. 0. 0.]\n",
            " [0. 0. 0. 0. 1. 0. 0. 0. 0. 0.]\n",
            " [0. 0. 0. 0. 0. 0. 0. 0. 0. 1.]\n",
            " [0. 0. 0. 0. 0. 1. 0. 0. 0. 0.]]\n"
          ],
          "name": "stdout"
        }
      ]
    },
    {
      "cell_type": "code",
      "metadata": {
        "id": "9tvptcn8dxvp",
        "colab_type": "code",
        "colab": {}
      },
      "source": [
        ""
      ],
      "execution_count": 0,
      "outputs": []
    }
  ]
}